{
 "cells": [
  {
   "cell_type": "code",
   "execution_count": 1,
   "metadata": {},
   "outputs": [],
   "source": [
    "import json\n",
    "import pandas as pd\n",
    "from tqdm import tqdm\n",
    "from warnings import warn\n",
    "from sklearn.linear_model import LinearRegression, Lasso, Ridge\n",
    "\n",
    "import numpy as np\n",
    "import matplotlib.pyplot as plt\n",
    "from sklearn.linear_model.base import (\n",
    "    LinearModel, RegressorMixin, MultiOutputMixin\n",
    ")\n",
    "import cvxpy as cp\n",
    "\n",
    "import tensorflow as tf\n",
    "import tensorflow.contrib.eager as tfe\n",
    "import tensorflow_datasets as tfds\n",
    "tf.enable_eager_execution()\n",
    "\n",
    "dataset = tfds.load(name=\"mnist\", split=tfds.Split.TRAIN,\n",
    "                    shuffle_files=True)"
   ]
  },
  {
   "cell_type": "code",
   "execution_count": 2,
   "metadata": {},
   "outputs": [],
   "source": [
    "NUM_SAMPLES = 1_000\n",
    "SIZE = 28 * 28\n",
    "NUM_CLASSES = 10\n",
    "\n",
    "dataset_ = dataset.shuffle(1024).batch(NUM_SAMPLES)\\\n",
    "    .prefetch(tf.data.experimental.AUTOTUNE)"
   ]
  },
  {
   "cell_type": "code",
   "execution_count": 3,
   "metadata": {
    "scrolled": true
   },
   "outputs": [
    {
     "data": {
      "image/png": "[encoded data removed]",
      "text/plain": [
       "<Figure size 432x288 with 1 Axes>"
      ]
     },
     "metadata": {
      "needs_background": "light"
     },
     "output_type": "display_data"
    }
   ],
   "source": [
    "for features in dataset_.take(1):\n",
    "    image, label = features[\"image\"], features[\"label\"]\n",
    "    train_images = image.numpy()\n",
    "    y_train_ = label.numpy()\n",
    "    y_train = np.zeros((y_train_.shape[0],\n",
    "                        np.unique(y_train_).shape[0]))\n",
    "    for i in range(NUM_SAMPLES):\n",
    "        y_train[i][y_train_[i]] = 1\n",
    "    plt.imshow(train_images[0, :, :, 0].astype(np.float32))\n",
    "    break\n",
    "train_images = train_images.reshape((NUM_SAMPLES, -1,))"
   ]
  },
  {
   "cell_type": "code",
   "execution_count": 4,
   "metadata": {},
   "outputs": [
    {
     "data": {
      "image/png": "[encoded data removed]",
      "text/plain": [
       "<Figure size 432x288 with 1 Axes>"
      ]
     },
     "metadata": {
      "needs_background": "light"
     },
     "output_type": "display_data"
    }
   ],
   "source": [
    "for features in dataset_.take(1):\n",
    "    image, label = features[\"image\"], features[\"label\"]\n",
    "    test_images = image.numpy()\n",
    "    y_test_ = label.numpy()\n",
    "    y_test = np.zeros((y_test_.shape[0],\n",
    "                       np.unique(y_test_).shape[0]))\n",
    "    for i in range(NUM_SAMPLES):\n",
    "        y_test[i][y_test_[i]] = 1\n",
    "    plt.imshow(test_images[0, :, :, 0].astype(np.float32))\n",
    "    break\n",
    "test_images = test_images.reshape((NUM_SAMPLES, -1,))"
   ]
  },
  {
   "cell_type": "code",
   "execution_count": 5,
   "metadata": {},
   "outputs": [],
   "source": [
    "feature_numbers = sorted(set(\n",
    "    np.logspace(0, np.log10(10 * NUM_SAMPLES), 40).astype(int)\n",
    "))\n",
    "\n",
    "rff_args = np.random.normal(size=(SIZE, feature_numbers[-1]))\n",
    "all_features = train_images.dot(rff_args)"
   ]
  },
  {
   "cell_type": "code",
   "execution_count": 6,
   "metadata": {},
   "outputs": [],
   "source": [
    "def runit(mdl, n_feat_list=feature_numbers, **kwargs):\n",
    "    results_ = []\n",
    "    for num_feats in tqdm(n_feat_list, leave=False):\n",
    "        X_train_ = all_features[:, :num_feats]\n",
    "        X_train = np.concatenate([np.sin(X_train_),\n",
    "                                  np.cos(X_train_)],\n",
    "                                 axis=1)\n",
    "        X_test_ = test_images.dot(rff_args[:, :num_feats])\n",
    "        X_test = np.concatenate([np.sin(X_test_),\n",
    "                                 np.cos(X_test_)],\n",
    "                                axis=1)\n",
    "        mdl.fit(X_train, y_train, **kwargs)\n",
    "        train_preds = mdl.predict(X_train)\n",
    "        test_preds = mdl.predict(X_test)\n",
    "        results_.append({\n",
    "            # because np.int64 is not json serializable\n",
    "            'num_feats': int(num_feats),\n",
    "            'in-sample': np.linalg.norm(\n",
    "                train_preds.reshape((-1,)) - y_train.reshape((-1,)), 2\n",
    "            ),\n",
    "            'out-of-sample': np.linalg.norm(\n",
    "                test_preds.reshape((-1,)) - y_test.reshape((-1,)), 2\n",
    "            )\n",
    "        })\n",
    "    return pd.DataFrame(results_).set_index('num_feats')"
   ]
  },
  {
   "cell_type": "code",
   "execution_count": 7,
   "metadata": {},
   "outputs": [],
   "source": [
    "class RandoLinmod(LinearModel, RegressorMixin, MultiOutputMixin):\n",
    "    __slots__ = ('beta', 'intercept_')\n",
    "    \n",
    "    def __init__(self):\n",
    "        self.beta = None\n",
    "        self.intercept_ = 0.0\n",
    "    \n",
    "    @staticmethod\n",
    "    def to_numpy(beta):\n",
    "        raise NotImplementedError('fooey')\n",
    "        \n",
    "    @property\n",
    "    def coef_(self):\n",
    "        if self.beta is None:\n",
    "            return None\n",
    "        coef_ = self.to_numpy(self.beta)\n",
    "        if len(coef_.shape) > 1:\n",
    "            return coef_.T\n",
    "        return coef_"
   ]
  },
  {
   "cell_type": "code",
   "execution_count": null,
   "metadata": {},
   "outputs": [],
   "source": []
  },
  {
   "cell_type": "code",
   "execution_count": 8,
   "metadata": {},
   "outputs": [],
   "source": [
    "class CVXLinmod(RandoLinmod):\n",
    "    def __init__(self, solver=None):\n",
    "        self.solver = solver\n",
    "        super().__init__()\n",
    "        \n",
    "    @staticmethod\n",
    "    def to_numpy(beta):\n",
    "        return beta.value\n",
    "    \n",
    "    def fit(self, X, y, order=2, atol=1e-8):\n",
    "        n_features, n_outputs = X.shape[1], y.shape[1]\n",
    "        self.beta = cp.Variable((n_features, n_outputs),\n",
    "                                name='beta')\n",
    "        resids = y - (X * self.beta)\n",
    "        mse = cp.sum_squares(resids)\n",
    "        if X.shape[1] < X.shape[0]:\n",
    "            loss = mse\n",
    "            constraints = []\n",
    "        else:\n",
    "            if order == 1:\n",
    "                loss = cp.sum(cp.abs(self.beta))\n",
    "            elif order == 2:\n",
    "                loss = cp.sum_squares(self.beta)\n",
    "            constraints = [mse <= atol]\n",
    "        objective = cp.Minimize(loss)\n",
    "        problem = cp.Problem(objective, constraints)\n",
    "        return problem.solve(solver=self.solver)"
   ]
  },
  {
   "cell_type": "code",
   "execution_count": 13,
   "metadata": {},
   "outputs": [
    {
     "data": {
      "text/plain": [
       "[942, 1193, 1511, 1914, 2424, 3070, 3888, 4923, 6235, 7896, 10000]"
      ]
     },
     "execution_count": 13,
     "metadata": {},
     "output_type": "execute_result"
    }
   ],
   "source": [
    "feature_numbers[26:]"
   ]
  },
  {
   "cell_type": "code",
   "execution_count": null,
   "metadata": {},
   "outputs": [
    {
     "name": "stderr",
     "output_type": "stream",
     "text": [
      " 65%|██████▍   | 24/37 [02:12<03:37, 16.74s/it]"
     ]
    }
   ],
   "source": [
    "results = runit(CVXLinmod(), feature_numbers,\n",
    "                order=1, atol=1e-5)\n",
    "results.clip(upper=80).plot(figsize=(13,8))"
   ]
  },
  {
   "cell_type": "code",
   "execution_count": null,
   "metadata": {},
   "outputs": [],
   "source": []
  },
  {
   "cell_type": "code",
   "execution_count": null,
   "metadata": {},
   "outputs": [],
   "source": []
  },
  {
   "cell_type": "code",
   "execution_count": null,
   "metadata": {},
   "outputs": [],
   "source": []
  },
  {
   "cell_type": "code",
   "execution_count": 7,
   "metadata": {},
   "outputs": [],
   "source": [
    "class DivergentLearningRater():\n",
    "    def __init__(self, scale, max_=np.inf, min_=0):\n",
    "        self.scale = scale\n",
    "        self.max = max_\n",
    "        self.min = min_\n",
    "        self.iter = 0\n",
    "        \n",
    "    def __call__(self):\n",
    "        self.iter += 1\n",
    "        return max(self.min, min(self.max, self.scale / self.iter))"
   ]
  },
  {
   "cell_type": "code",
   "execution_count": 8,
   "metadata": {},
   "outputs": [],
   "source": [
    "def grad2mag(tf_grads):\n",
    "    return np.linalg.norm([x[0] for x in tf_grads])"
   ]
  },
  {
   "cell_type": "code",
   "execution_count": 9,
   "metadata": {},
   "outputs": [],
   "source": [
    "class TFlowLinmod(RandoLinmod):\n",
    "    @staticmethod\n",
    "    def to_numpy(beta):\n",
    "        return beta.numpy()\n",
    "        \n",
    "    def _mse(self, X, y):\n",
    "        resids = y - tf.matmul(X, self.beta, name='preds')\n",
    "        mse = tf.reduce_mean(tf.square(resids), axis=0)\n",
    "        return mse\n",
    "    \n",
    "    def loss(self, X, y):\n",
    "        mse = self._mse(X, y)\n",
    "        if X.shape[1] < X.shape[0]:\n",
    "            objective = tf.reduce_mean(mse, name='obj')\n",
    "        else:\n",
    "            lamb = tfe.Variable(tf.random_normal((self.n_outputs,)),\n",
    "                                name='lambda')\n",
    "            legrangian = tf.reduce_mean(\n",
    "                tf.dot(mse, tf.abs(lamb)),\n",
    "                name='legrange'\n",
    "            )\n",
    "            objective = tf.add(tf.norm(self.beta, ord=2),\n",
    "                               legrangian, name='objct')\n",
    "        return objective\n",
    "    \n",
    "    def fit(self, X, y, learning_rate=0.05, debug=False):\n",
    "        n_features, n_outputs = X.shape[1], y.shape[1]\n",
    "        self.beta = tfe.Variable(\n",
    "            tf.random_normal((n_features, n_outputs)),\n",
    "            name='beta'\n",
    "        )\n",
    "        X = tf.constant(X, dtype='float32')\n",
    "        y = tf.constant(y, dtype='float32')\n",
    "        grad = tfe.implicit_gradients(self.loss)\n",
    "        optimizer = tf.train.GradientDescentOptimizer(learning_rate)\n",
    "        this_grad = grad(X, y)\n",
    "        this_grad_mag = grad2mag(this_grad)\n",
    "        while np.abs(this_grad_mag) > 1e-8:\n",
    "            # for i in range(max_iters):\n",
    "            optimizer.apply_gradients(this_grad)\n",
    "            this_grad = grad(X, y)\n",
    "            this_grad_mag = grad2mag(this_grad)\n",
    "            if debug:\n",
    "                print('Magnitude of Gradient: ', this_grad_mag)\n",
    "        return self\n",
    "    "
   ]
  },
  {
   "cell_type": "code",
   "execution_count": 10,
   "metadata": {},
   "outputs": [
    {
     "name": "stderr",
     "output_type": "stream",
     "text": [
      " 19%|█▉        | 7/37 [00:10<00:58,  1.95s/it]"
     ]
    },
    {
     "ename": "KeyboardInterrupt",
     "evalue": "",
     "output_type": "error",
     "traceback": [
      "\u001b[0;31m---------------------------------------------------------------------------\u001b[0m",
      "\u001b[0;31mKeyboardInterrupt\u001b[0m                         Traceback (most recent call last)",
      "\u001b[0;32m<ipython-input-10-882584bd80a9>\u001b[0m in \u001b[0;36m<module>\u001b[0;34m\u001b[0m\n\u001b[1;32m     11\u001b[0m     \u001b[0mmdl\u001b[0m \u001b[0;34m=\u001b[0m \u001b[0mTFlowLinmod\u001b[0m\u001b[0;34m(\u001b[0m\u001b[0;34m)\u001b[0m\u001b[0;34m\u001b[0m\u001b[0;34m\u001b[0m\u001b[0m\n\u001b[1;32m     12\u001b[0m     mdl.fit(X_train, y_train, debug=False,\n\u001b[0;32m---> 13\u001b[0;31m             learning_rate=DivergentLearningRater(100, 2.0, 0.01))\n\u001b[0m\u001b[1;32m     14\u001b[0m     \u001b[0mtrain_preds\u001b[0m \u001b[0;34m=\u001b[0m \u001b[0mmdl\u001b[0m\u001b[0;34m.\u001b[0m\u001b[0mpredict\u001b[0m\u001b[0;34m(\u001b[0m\u001b[0mX_train\u001b[0m\u001b[0;34m)\u001b[0m\u001b[0;34m\u001b[0m\u001b[0;34m\u001b[0m\u001b[0m\n\u001b[1;32m     15\u001b[0m     \u001b[0mtest_preds\u001b[0m \u001b[0;34m=\u001b[0m \u001b[0mmdl\u001b[0m\u001b[0;34m.\u001b[0m\u001b[0mpredict\u001b[0m\u001b[0;34m(\u001b[0m\u001b[0mX_test\u001b[0m\u001b[0;34m)\u001b[0m\u001b[0;34m\u001b[0m\u001b[0;34m\u001b[0m\u001b[0m\n",
      "\u001b[0;32m<ipython-input-9-fc402fa790a9>\u001b[0m in \u001b[0;36mfit\u001b[0;34m(self, X, y, learning_rate, debug)\u001b[0m\n\u001b[1;32m     40\u001b[0m             \u001b[0moptimizer\u001b[0m\u001b[0;34m.\u001b[0m\u001b[0mapply_gradients\u001b[0m\u001b[0;34m(\u001b[0m\u001b[0mthis_grad\u001b[0m\u001b[0;34m)\u001b[0m\u001b[0;34m\u001b[0m\u001b[0;34m\u001b[0m\u001b[0m\n\u001b[1;32m     41\u001b[0m             \u001b[0mthis_grad\u001b[0m \u001b[0;34m=\u001b[0m \u001b[0mgrad\u001b[0m\u001b[0;34m(\u001b[0m\u001b[0mX\u001b[0m\u001b[0;34m,\u001b[0m \u001b[0my\u001b[0m\u001b[0;34m)\u001b[0m\u001b[0;34m\u001b[0m\u001b[0;34m\u001b[0m\u001b[0m\n\u001b[0;32m---> 42\u001b[0;31m             \u001b[0mthis_grad_mag\u001b[0m \u001b[0;34m=\u001b[0m \u001b[0mgrad2mag\u001b[0m\u001b[0;34m(\u001b[0m\u001b[0mthis_grad\u001b[0m\u001b[0;34m)\u001b[0m\u001b[0;34m\u001b[0m\u001b[0;34m\u001b[0m\u001b[0m\n\u001b[0m\u001b[1;32m     43\u001b[0m             \u001b[0;32mif\u001b[0m \u001b[0mdebug\u001b[0m\u001b[0;34m:\u001b[0m\u001b[0;34m\u001b[0m\u001b[0;34m\u001b[0m\u001b[0m\n\u001b[1;32m     44\u001b[0m                 \u001b[0mprint\u001b[0m\u001b[0;34m(\u001b[0m\u001b[0;34m'Magnitude of Gradient: '\u001b[0m\u001b[0;34m,\u001b[0m \u001b[0mthis_grad_mag\u001b[0m\u001b[0;34m)\u001b[0m\u001b[0;34m\u001b[0m\u001b[0;34m\u001b[0m\u001b[0m\n",
      "\u001b[0;32m<ipython-input-8-9bfc178a16f6>\u001b[0m in \u001b[0;36mgrad2mag\u001b[0;34m(tf_grads)\u001b[0m\n\u001b[1;32m      1\u001b[0m \u001b[0;32mdef\u001b[0m \u001b[0mgrad2mag\u001b[0m\u001b[0;34m(\u001b[0m\u001b[0mtf_grads\u001b[0m\u001b[0;34m)\u001b[0m\u001b[0;34m:\u001b[0m\u001b[0;34m\u001b[0m\u001b[0;34m\u001b[0m\u001b[0m\n\u001b[0;32m----> 2\u001b[0;31m     \u001b[0;32mreturn\u001b[0m \u001b[0mnp\u001b[0m\u001b[0;34m.\u001b[0m\u001b[0mlinalg\u001b[0m\u001b[0;34m.\u001b[0m\u001b[0mnorm\u001b[0m\u001b[0;34m(\u001b[0m\u001b[0;34m[\u001b[0m\u001b[0mx\u001b[0m\u001b[0;34m[\u001b[0m\u001b[0;36m0\u001b[0m\u001b[0;34m]\u001b[0m \u001b[0;32mfor\u001b[0m \u001b[0mx\u001b[0m \u001b[0;32min\u001b[0m \u001b[0mtf_grads\u001b[0m\u001b[0;34m]\u001b[0m\u001b[0;34m)\u001b[0m\u001b[0;34m\u001b[0m\u001b[0;34m\u001b[0m\u001b[0m\n\u001b[0m",
      "\u001b[0;32m~/.local/lib/python3.6/site-packages/numpy/linalg/linalg.py\u001b[0m in \u001b[0;36mnorm\u001b[0;34m(x, ord, axis, keepdims)\u001b[0m\n\u001b[1;32m   2432\u001b[0m \u001b[0;34m\u001b[0m\u001b[0m\n\u001b[1;32m   2433\u001b[0m     \"\"\"\n\u001b[0;32m-> 2434\u001b[0;31m     \u001b[0mx\u001b[0m \u001b[0;34m=\u001b[0m \u001b[0masarray\u001b[0m\u001b[0;34m(\u001b[0m\u001b[0mx\u001b[0m\u001b[0;34m)\u001b[0m\u001b[0;34m\u001b[0m\u001b[0;34m\u001b[0m\u001b[0m\n\u001b[0m\u001b[1;32m   2435\u001b[0m \u001b[0;34m\u001b[0m\u001b[0m\n\u001b[1;32m   2436\u001b[0m     \u001b[0;32mif\u001b[0m \u001b[0;32mnot\u001b[0m \u001b[0missubclass\u001b[0m\u001b[0;34m(\u001b[0m\u001b[0mx\u001b[0m\u001b[0;34m.\u001b[0m\u001b[0mdtype\u001b[0m\u001b[0;34m.\u001b[0m\u001b[0mtype\u001b[0m\u001b[0;34m,\u001b[0m \u001b[0;34m(\u001b[0m\u001b[0minexact\u001b[0m\u001b[0;34m,\u001b[0m \u001b[0mobject_\u001b[0m\u001b[0;34m)\u001b[0m\u001b[0;34m)\u001b[0m\u001b[0;34m:\u001b[0m\u001b[0;34m\u001b[0m\u001b[0;34m\u001b[0m\u001b[0m\n",
      "\u001b[0;32m~/.local/lib/python3.6/site-packages/numpy/core/numeric.py\u001b[0m in \u001b[0;36masarray\u001b[0;34m(a, dtype, order)\u001b[0m\n\u001b[1;32m    536\u001b[0m \u001b[0;34m\u001b[0m\u001b[0m\n\u001b[1;32m    537\u001b[0m     \"\"\"\n\u001b[0;32m--> 538\u001b[0;31m     \u001b[0;32mreturn\u001b[0m \u001b[0marray\u001b[0m\u001b[0;34m(\u001b[0m\u001b[0ma\u001b[0m\u001b[0;34m,\u001b[0m \u001b[0mdtype\u001b[0m\u001b[0;34m,\u001b[0m \u001b[0mcopy\u001b[0m\u001b[0;34m=\u001b[0m\u001b[0;32mFalse\u001b[0m\u001b[0;34m,\u001b[0m \u001b[0morder\u001b[0m\u001b[0;34m=\u001b[0m\u001b[0morder\u001b[0m\u001b[0;34m)\u001b[0m\u001b[0;34m\u001b[0m\u001b[0;34m\u001b[0m\u001b[0m\n\u001b[0m\u001b[1;32m    539\u001b[0m \u001b[0;34m\u001b[0m\u001b[0m\n\u001b[1;32m    540\u001b[0m \u001b[0;34m\u001b[0m\u001b[0m\n",
      "\u001b[0;32m~/.local/lib/python3.6/site-packages/tensorflow/python/framework/ops.py\u001b[0m in \u001b[0;36m__iter__\u001b[0;34m(self)\u001b[0m\n\u001b[1;32m    486\u001b[0m           \"Cannot iterate over a tensor with unknown first dimension.\")\n\u001b[1;32m    487\u001b[0m     \u001b[0;32mfor\u001b[0m \u001b[0mi\u001b[0m \u001b[0;32min\u001b[0m \u001b[0mxrange\u001b[0m\u001b[0;34m(\u001b[0m\u001b[0mshape\u001b[0m\u001b[0;34m[\u001b[0m\u001b[0;36m0\u001b[0m\u001b[0;34m]\u001b[0m\u001b[0;34m)\u001b[0m\u001b[0;34m:\u001b[0m\u001b[0;34m\u001b[0m\u001b[0;34m\u001b[0m\u001b[0m\n\u001b[0;32m--> 488\u001b[0;31m       \u001b[0;32myield\u001b[0m \u001b[0mself\u001b[0m\u001b[0;34m[\u001b[0m\u001b[0mi\u001b[0m\u001b[0;34m]\u001b[0m\u001b[0;34m\u001b[0m\u001b[0;34m\u001b[0m\u001b[0m\n\u001b[0m\u001b[1;32m    489\u001b[0m \u001b[0;34m\u001b[0m\u001b[0m\n\u001b[1;32m    490\u001b[0m   \u001b[0;32mdef\u001b[0m \u001b[0m_shape_as_list\u001b[0m\u001b[0;34m(\u001b[0m\u001b[0mself\u001b[0m\u001b[0;34m)\u001b[0m\u001b[0;34m:\u001b[0m\u001b[0;34m\u001b[0m\u001b[0;34m\u001b[0m\u001b[0m\n",
      "\u001b[0;32m~/.local/lib/python3.6/site-packages/tensorflow/python/ops/array_ops.py\u001b[0m in \u001b[0;36m_slice_helper\u001b[0;34m(tensor, slice_spec, var)\u001b[0m\n\u001b[1;32m    653\u001b[0m                       [tensor] + begin + end + strides) as name:\n\u001b[1;32m    654\u001b[0m     \u001b[0;32mif\u001b[0m \u001b[0mbegin\u001b[0m\u001b[0;34m:\u001b[0m\u001b[0;34m\u001b[0m\u001b[0;34m\u001b[0m\u001b[0m\n\u001b[0;32m--> 655\u001b[0;31m       packed_begin, packed_end, packed_strides = (stack(begin), stack(end),\n\u001b[0m\u001b[1;32m    656\u001b[0m                                                   stack(strides))\n\u001b[1;32m    657\u001b[0m       if (packed_begin.dtype == dtypes.int64 or\n",
      "\u001b[0;32m~/.local/lib/python3.6/site-packages/tensorflow/python/util/dispatch.py\u001b[0m in \u001b[0;36mwrapper\u001b[0;34m(*args, **kwargs)\u001b[0m\n\u001b[1;32m    178\u001b[0m     \u001b[0;34m\"\"\"Call target, and fall back on dispatchers if there is a TypeError.\"\"\"\u001b[0m\u001b[0;34m\u001b[0m\u001b[0;34m\u001b[0m\u001b[0m\n\u001b[1;32m    179\u001b[0m     \u001b[0;32mtry\u001b[0m\u001b[0;34m:\u001b[0m\u001b[0;34m\u001b[0m\u001b[0;34m\u001b[0m\u001b[0m\n\u001b[0;32m--> 180\u001b[0;31m       \u001b[0;32mreturn\u001b[0m \u001b[0mtarget\u001b[0m\u001b[0;34m(\u001b[0m\u001b[0;34m*\u001b[0m\u001b[0margs\u001b[0m\u001b[0;34m,\u001b[0m \u001b[0;34m**\u001b[0m\u001b[0mkwargs\u001b[0m\u001b[0;34m)\u001b[0m\u001b[0;34m\u001b[0m\u001b[0;34m\u001b[0m\u001b[0m\n\u001b[0m\u001b[1;32m    181\u001b[0m     \u001b[0;32mexcept\u001b[0m \u001b[0;34m(\u001b[0m\u001b[0mTypeError\u001b[0m\u001b[0;34m,\u001b[0m \u001b[0mValueError\u001b[0m\u001b[0;34m)\u001b[0m\u001b[0;34m:\u001b[0m\u001b[0;34m\u001b[0m\u001b[0;34m\u001b[0m\u001b[0m\n\u001b[1;32m    182\u001b[0m       \u001b[0;31m# Note: convert_to_eager_tensor currently raises a ValueError, not a\u001b[0m\u001b[0;34m\u001b[0m\u001b[0;34m\u001b[0m\u001b[0;34m\u001b[0m\u001b[0m\n",
      "\u001b[0;32m~/.local/lib/python3.6/site-packages/tensorflow/python/ops/array_ops.py\u001b[0m in \u001b[0;36mstack\u001b[0;34m(values, axis, name)\u001b[0m\n\u001b[1;32m   1033\u001b[0m     \u001b[0;32mtry\u001b[0m\u001b[0;34m:\u001b[0m\u001b[0;34m\u001b[0m\u001b[0;34m\u001b[0m\u001b[0m\n\u001b[1;32m   1034\u001b[0m       \u001b[0;31m# If the input is a constant list, it can be converted to a constant op\u001b[0m\u001b[0;34m\u001b[0m\u001b[0;34m\u001b[0m\u001b[0;34m\u001b[0m\u001b[0m\n\u001b[0;32m-> 1035\u001b[0;31m       \u001b[0;32mreturn\u001b[0m \u001b[0mops\u001b[0m\u001b[0;34m.\u001b[0m\u001b[0mconvert_to_tensor\u001b[0m\u001b[0;34m(\u001b[0m\u001b[0mvalues\u001b[0m\u001b[0;34m,\u001b[0m \u001b[0mname\u001b[0m\u001b[0;34m=\u001b[0m\u001b[0mname\u001b[0m\u001b[0;34m)\u001b[0m\u001b[0;34m\u001b[0m\u001b[0;34m\u001b[0m\u001b[0m\n\u001b[0m\u001b[1;32m   1036\u001b[0m     \u001b[0;32mexcept\u001b[0m \u001b[0;34m(\u001b[0m\u001b[0mTypeError\u001b[0m\u001b[0;34m,\u001b[0m \u001b[0mValueError\u001b[0m\u001b[0;34m)\u001b[0m\u001b[0;34m:\u001b[0m\u001b[0;34m\u001b[0m\u001b[0;34m\u001b[0m\u001b[0m\n\u001b[1;32m   1037\u001b[0m       \u001b[0;32mpass\u001b[0m  \u001b[0;31m# Input list contains non-constant tensors\u001b[0m\u001b[0;34m\u001b[0m\u001b[0;34m\u001b[0m\u001b[0m\n",
      "\u001b[0;32m~/.local/lib/python3.6/site-packages/tensorflow/python/framework/ops.py\u001b[0m in \u001b[0;36mconvert_to_tensor\u001b[0;34m(value, dtype, name, preferred_dtype, dtype_hint)\u001b[0m\n\u001b[1;32m   1085\u001b[0m   preferred_dtype = deprecation.deprecated_argument_lookup(\n\u001b[1;32m   1086\u001b[0m       \"dtype_hint\", dtype_hint, \"preferred_dtype\", preferred_dtype)\n\u001b[0;32m-> 1087\u001b[0;31m   \u001b[0;32mreturn\u001b[0m \u001b[0mconvert_to_tensor_v2\u001b[0m\u001b[0;34m(\u001b[0m\u001b[0mvalue\u001b[0m\u001b[0;34m,\u001b[0m \u001b[0mdtype\u001b[0m\u001b[0;34m,\u001b[0m \u001b[0mpreferred_dtype\u001b[0m\u001b[0;34m,\u001b[0m \u001b[0mname\u001b[0m\u001b[0;34m)\u001b[0m\u001b[0;34m\u001b[0m\u001b[0;34m\u001b[0m\u001b[0m\n\u001b[0m\u001b[1;32m   1088\u001b[0m \u001b[0;34m\u001b[0m\u001b[0m\n\u001b[1;32m   1089\u001b[0m \u001b[0;34m\u001b[0m\u001b[0m\n",
      "\u001b[0;32m~/.local/lib/python3.6/site-packages/tensorflow/python/framework/ops.py\u001b[0m in \u001b[0;36mconvert_to_tensor_v2\u001b[0;34m(value, dtype, dtype_hint, name)\u001b[0m\n\u001b[1;32m   1143\u001b[0m       \u001b[0mname\u001b[0m\u001b[0;34m=\u001b[0m\u001b[0mname\u001b[0m\u001b[0;34m,\u001b[0m\u001b[0;34m\u001b[0m\u001b[0;34m\u001b[0m\u001b[0m\n\u001b[1;32m   1144\u001b[0m       \u001b[0mpreferred_dtype\u001b[0m\u001b[0;34m=\u001b[0m\u001b[0mdtype_hint\u001b[0m\u001b[0;34m,\u001b[0m\u001b[0;34m\u001b[0m\u001b[0;34m\u001b[0m\u001b[0m\n\u001b[0;32m-> 1145\u001b[0;31m       as_ref=False)\n\u001b[0m\u001b[1;32m   1146\u001b[0m \u001b[0;34m\u001b[0m\u001b[0m\n\u001b[1;32m   1147\u001b[0m \u001b[0;34m\u001b[0m\u001b[0m\n",
      "\u001b[0;32m~/.local/lib/python3.6/site-packages/tensorflow/python/framework/ops.py\u001b[0m in \u001b[0;36minternal_convert_to_tensor\u001b[0;34m(value, dtype, name, as_ref, preferred_dtype, ctx, accept_symbolic_tensors, accept_composite_tensors)\u001b[0m\n\u001b[1;32m   1222\u001b[0m \u001b[0;34m\u001b[0m\u001b[0m\n\u001b[1;32m   1223\u001b[0m     \u001b[0;32mif\u001b[0m \u001b[0mret\u001b[0m \u001b[0;32mis\u001b[0m \u001b[0;32mNone\u001b[0m\u001b[0;34m:\u001b[0m\u001b[0;34m\u001b[0m\u001b[0;34m\u001b[0m\u001b[0m\n\u001b[0;32m-> 1224\u001b[0;31m       \u001b[0mret\u001b[0m \u001b[0;34m=\u001b[0m \u001b[0mconversion_func\u001b[0m\u001b[0;34m(\u001b[0m\u001b[0mvalue\u001b[0m\u001b[0;34m,\u001b[0m \u001b[0mdtype\u001b[0m\u001b[0;34m=\u001b[0m\u001b[0mdtype\u001b[0m\u001b[0;34m,\u001b[0m \u001b[0mname\u001b[0m\u001b[0;34m=\u001b[0m\u001b[0mname\u001b[0m\u001b[0;34m,\u001b[0m \u001b[0mas_ref\u001b[0m\u001b[0;34m=\u001b[0m\u001b[0mas_ref\u001b[0m\u001b[0;34m)\u001b[0m\u001b[0;34m\u001b[0m\u001b[0;34m\u001b[0m\u001b[0m\n\u001b[0m\u001b[1;32m   1225\u001b[0m \u001b[0;34m\u001b[0m\u001b[0m\n\u001b[1;32m   1226\u001b[0m     \u001b[0;32mif\u001b[0m \u001b[0mret\u001b[0m \u001b[0;32mis\u001b[0m \u001b[0mNotImplemented\u001b[0m\u001b[0;34m:\u001b[0m\u001b[0;34m\u001b[0m\u001b[0;34m\u001b[0m\u001b[0m\n",
      "\u001b[0;32m~/.local/lib/python3.6/site-packages/tensorflow/python/framework/constant_op.py\u001b[0m in \u001b[0;36m_constant_tensor_conversion_function\u001b[0;34m(v, dtype, name, as_ref)\u001b[0m\n\u001b[1;32m    303\u001b[0m                                          as_ref=False):\n\u001b[1;32m    304\u001b[0m   \u001b[0m_\u001b[0m \u001b[0;34m=\u001b[0m \u001b[0mas_ref\u001b[0m\u001b[0;34m\u001b[0m\u001b[0;34m\u001b[0m\u001b[0m\n\u001b[0;32m--> 305\u001b[0;31m   \u001b[0;32mreturn\u001b[0m \u001b[0mconstant\u001b[0m\u001b[0;34m(\u001b[0m\u001b[0mv\u001b[0m\u001b[0;34m,\u001b[0m \u001b[0mdtype\u001b[0m\u001b[0;34m=\u001b[0m\u001b[0mdtype\u001b[0m\u001b[0;34m,\u001b[0m \u001b[0mname\u001b[0m\u001b[0;34m=\u001b[0m\u001b[0mname\u001b[0m\u001b[0;34m)\u001b[0m\u001b[0;34m\u001b[0m\u001b[0;34m\u001b[0m\u001b[0m\n\u001b[0m\u001b[1;32m    306\u001b[0m \u001b[0;34m\u001b[0m\u001b[0m\n\u001b[1;32m    307\u001b[0m \u001b[0;34m\u001b[0m\u001b[0m\n",
      "\u001b[0;32m~/.local/lib/python3.6/site-packages/tensorflow/python/framework/constant_op.py\u001b[0m in \u001b[0;36mconstant\u001b[0;34m(value, dtype, shape, name)\u001b[0m\n\u001b[1;32m    244\u001b[0m   \"\"\"\n\u001b[1;32m    245\u001b[0m   return _constant_impl(value, dtype, shape, name, verify_shape=False,\n\u001b[0;32m--> 246\u001b[0;31m                         allow_broadcast=True)\n\u001b[0m\u001b[1;32m    247\u001b[0m \u001b[0;34m\u001b[0m\u001b[0m\n\u001b[1;32m    248\u001b[0m \u001b[0;34m\u001b[0m\u001b[0m\n",
      "\u001b[0;32m~/.local/lib/python3.6/site-packages/tensorflow/python/framework/constant_op.py\u001b[0m in \u001b[0;36m_constant_impl\u001b[0;34m(value, dtype, shape, name, verify_shape, allow_broadcast)\u001b[0m\n\u001b[1;32m    252\u001b[0m   \u001b[0mctx\u001b[0m \u001b[0;34m=\u001b[0m \u001b[0mcontext\u001b[0m\u001b[0;34m.\u001b[0m\u001b[0mcontext\u001b[0m\u001b[0;34m(\u001b[0m\u001b[0;34m)\u001b[0m\u001b[0;34m\u001b[0m\u001b[0;34m\u001b[0m\u001b[0m\n\u001b[1;32m    253\u001b[0m   \u001b[0;32mif\u001b[0m \u001b[0mctx\u001b[0m\u001b[0;34m.\u001b[0m\u001b[0mexecuting_eagerly\u001b[0m\u001b[0;34m(\u001b[0m\u001b[0;34m)\u001b[0m\u001b[0;34m:\u001b[0m\u001b[0;34m\u001b[0m\u001b[0;34m\u001b[0m\u001b[0m\n\u001b[0;32m--> 254\u001b[0;31m     \u001b[0mt\u001b[0m \u001b[0;34m=\u001b[0m \u001b[0mconvert_to_eager_tensor\u001b[0m\u001b[0;34m(\u001b[0m\u001b[0mvalue\u001b[0m\u001b[0;34m,\u001b[0m \u001b[0mctx\u001b[0m\u001b[0;34m,\u001b[0m \u001b[0mdtype\u001b[0m\u001b[0;34m)\u001b[0m\u001b[0;34m\u001b[0m\u001b[0;34m\u001b[0m\u001b[0m\n\u001b[0m\u001b[1;32m    255\u001b[0m     \u001b[0;32mif\u001b[0m \u001b[0mshape\u001b[0m \u001b[0;32mis\u001b[0m \u001b[0;32mNone\u001b[0m\u001b[0;34m:\u001b[0m\u001b[0;34m\u001b[0m\u001b[0;34m\u001b[0m\u001b[0m\n\u001b[1;32m    256\u001b[0m       \u001b[0;32mreturn\u001b[0m \u001b[0mt\u001b[0m\u001b[0;34m\u001b[0m\u001b[0;34m\u001b[0m\u001b[0m\n",
      "\u001b[0;32m~/.local/lib/python3.6/site-packages/tensorflow/python/framework/constant_op.py\u001b[0m in \u001b[0;36mconvert_to_eager_tensor\u001b[0;34m(value, ctx, dtype)\u001b[0m\n\u001b[1;32m     69\u001b[0m \u001b[0;34m\u001b[0m\u001b[0m\n\u001b[1;32m     70\u001b[0m \u001b[0;34m\u001b[0m\u001b[0m\n\u001b[0;32m---> 71\u001b[0;31m \u001b[0;32mdef\u001b[0m \u001b[0mconvert_to_eager_tensor\u001b[0m\u001b[0;34m(\u001b[0m\u001b[0mvalue\u001b[0m\u001b[0;34m,\u001b[0m \u001b[0mctx\u001b[0m\u001b[0;34m,\u001b[0m \u001b[0mdtype\u001b[0m\u001b[0;34m=\u001b[0m\u001b[0;32mNone\u001b[0m\u001b[0;34m)\u001b[0m\u001b[0;34m:\u001b[0m\u001b[0;34m\u001b[0m\u001b[0;34m\u001b[0m\u001b[0m\n\u001b[0m\u001b[1;32m     72\u001b[0m   \"\"\"Converts the given `value` to an `EagerTensor`.\n\u001b[1;32m     73\u001b[0m \u001b[0;34m\u001b[0m\u001b[0m\n",
      "\u001b[0;31mKeyboardInterrupt\u001b[0m: "
     ]
    }
   ],
   "source": [
    "results_ = []\n",
    "for num_feats in tqdm(feature_numbers, leave=False):\n",
    "    X_train_ = all_features[:, :num_feats]\n",
    "    X_train = np.concatenate([np.sin(X_train_),\n",
    "                              np.cos(X_train_)],\n",
    "                             axis=1)\n",
    "    X_test_ = test_images.dot(rff_args[:, :num_feats])\n",
    "    X_test = np.concatenate([np.sin(X_test_),\n",
    "                             np.cos(X_test_)],\n",
    "                            axis=1)\n",
    "    mdl = TFlowLinmod()\n",
    "    mdl.fit(X_train, y_train, debug=False,\n",
    "            learning_rate=DivergentLearningRater(100, 2.0, 0.01))\n",
    "    train_preds = mdl.predict(X_train)\n",
    "    test_preds = mdl.predict(X_test)\n",
    "    results_.append({\n",
    "        # because np.int64 is not json serializable\n",
    "        'num_feats': int(num_feats),\n",
    "        'in-sample': np.linalg.norm(\n",
    "            train_preds.reshape((-1,)) - y_train.reshape((-1,)), 2\n",
    "        ),\n",
    "        'out-of-sample': np.linalg.norm(\n",
    "            test_preds.reshape((-1,)) - y_test.reshape((-1,)), 2\n",
    "        )\n",
    "    })\n",
    "results = pd.DataFrame(results_).set_index('num_feats')\n",
    "results.clip(upper=80).plot(figsize=(13,8))\n",
    "\n",
    "results"
   ]
  },
  {
   "cell_type": "code",
   "execution_count": null,
   "metadata": {},
   "outputs": [],
   "source": []
  },
  {
   "cell_type": "code",
   "execution_count": null,
   "metadata": {},
   "outputs": [],
   "source": []
  },
  {
   "cell_type": "code",
   "execution_count": 6,
   "metadata": {},
   "outputs": [
    {
     "name": "stderr",
     "output_type": "stream",
     "text": [
      "                                                \r"
     ]
    },
    {
     "data": {
      "image/png": "[encoded data removed]",
      "text/plain": [
       "<Figure size 936x576 with 1 Axes>"
      ]
     },
     "metadata": {
      "needs_background": "light"
     },
     "output_type": "display_data"
    }
   ],
   "source": [
    "results_ = []\n",
    "for num_feats in tqdm(feature_numbers, leave=False):\n",
    "    X_train_ = all_features[:, :num_feats]\n",
    "    X_train = np.concatenate([np.sin(X_train_), np.cos(X_train_)],\n",
    "                             axis=1)\n",
    "    X_test_ = test_images.dot(rff_args[:, :num_feats])\n",
    "    X_test = np.concatenate([np.sin(X_test_), np.cos(X_test_)],\n",
    "                            axis=1)\n",
    "    linmod = LinearRegression(fit_intercept=False, n_jobs=-1)\n",
    "    linmod.fit(X_train, y_train)\n",
    "    train_preds = linmod.predict(X_train)\n",
    "    test_preds = linmod.predict(X_test)\n",
    "    results_.append({\n",
    "        # because np.int64 is not json serializable\n",
    "        'num_feats': int(num_feats),\n",
    "        'in-sample': np.linalg.norm(\n",
    "            train_preds.reshape((-1,)) - y_train.reshape((-1,)), 2\n",
    "        ),\n",
    "        'out-of-sample': np.linalg.norm(\n",
    "            test_preds.reshape((-1,)) - y_test.reshape((-1,)), 2\n",
    "        )\n",
    "    })\n",
    "results = pd.DataFrame(results_).set_index('num_feats')\n",
    "results.plot(figsize=(13,8))\n",
    "\n",
    "with open('base_ols_results.json', 'w+') as f:\n",
    "    f.write(json.dumps(results_))"
   ]
  },
  {
   "cell_type": "code",
   "execution_count": 14,
   "metadata": {},
   "outputs": [
    {
     "name": "stderr",
     "output_type": "stream",
     "text": [
      "                                                \r"
     ]
    },
    {
     "data": {
      "image/png": "[encoded data removed]",
      "text/plain": [
       "<Figure size 936x576 with 1 Axes>"
      ]
     },
     "metadata": {
      "needs_background": "light"
     },
     "output_type": "display_data"
    }
   ],
   "source": [
    "results_ = []\n",
    "for num_feats in tqdm(feature_numbers[:25], leave=False):\n",
    "    X_train_ = all_features[:, :num_feats]\n",
    "    X_train = np.concatenate([np.sin(X_train_), np.cos(X_train_)],\n",
    "                             axis=1)\n",
    "    X_test_ = test_images.dot(rff_args[:, :num_feats])\n",
    "    X_test = np.concatenate([np.sin(X_test_), np.cos(X_test_)],\n",
    "                            axis=1)\n",
    "    linmod = LinearRegression(fit_intercept=False, n_jobs=-1)\n",
    "    linmod.fit(X_train, y_train)\n",
    "    train_preds = linmod.predict(X_train)\n",
    "    test_preds = linmod.predict(X_test)\n",
    "    results_.append({\n",
    "        # because np.int64 is not json serializable\n",
    "        'num_feats': int(num_feats),\n",
    "        'in-sample': np.linalg.norm(\n",
    "            train_preds.reshape((-1,)) - y_train.reshape((-1,)), 2\n",
    "        ),\n",
    "        'out-of-sample': np.linalg.norm(\n",
    "            test_preds.reshape((-1,)) - y_test.reshape((-1,)), 2\n",
    "        )\n",
    "    })\n",
    "results = pd.DataFrame(results_).set_index('num_feats')\n",
    "results.plot(figsize=(13,8))\n",
    "\n",
    "with open('base_ols_results.json', 'w+') as f:\n",
    "    f.write(json.dumps(results_))"
   ]
  },
  {
   "cell_type": "markdown",
   "metadata": {},
   "source": [
    "tf.keras.backend.clear_session()\n",
    "\n",
    "tf.disable_eager_execution()"
   ]
  },
  {
   "cell_type": "code",
   "execution_count": 6,
   "metadata": {},
   "outputs": [
    {
     "data": {
      "text/plain": [
       "1193"
      ]
     },
     "execution_count": 6,
     "metadata": {},
     "output_type": "execute_result"
    }
   ],
   "source": [
    "feature_numbers[27]"
   ]
  },
  {
   "cell_type": "code",
   "execution_count": 11,
   "metadata": {},
   "outputs": [],
   "source": [
    "class CVXLinmod(LinearModel, RegressorMixin, MultiOutputMixin):\n",
    "    __slots__ = ('beta', 'intercept_')\n",
    "    \n",
    "    def __init__(self):\n",
    "        self.beta = None\n",
    "        self.intercept_ = 0.0\n",
    "    \n",
    "    @property\n",
    "    def coef_(self):\n",
    "        if self.beta is None:\n",
    "            return None\n",
    "        coef_ = self.beta.value\n",
    "        if len(coef_.shape) > 1:\n",
    "            return coef_.T\n",
    "        return coef_\n",
    "        \n",
    "    def _mse(self, X, y):\n",
    "        resids = y - tf.matmul(X, self.beta, name='preds')\n",
    "        mse = tf.reduce_mean(tf.square(resids), axis=0)\n",
    "        return mse\n",
    "    \n",
    "    def loss(self, X, y):\n",
    "        mse = self._mse(X, y)\n",
    "        if X.shape[1] < X.shape[0]:\n",
    "            objective = tf.reduce_mean(mse, name='obj')\n",
    "        else:\n",
    "            lamb = tfe.Variable(tf.random_normal((self.n_outputs,)),\n",
    "                                name='lambda')\n",
    "            legrangian = tf.reduce_mean(\n",
    "                tf.dot(mse, tf.abs(lamb)),\n",
    "                name='legrange'\n",
    "            )\n",
    "            objective = tf.add(tf.norm(self.beta, ord=2),\n",
    "                               legrangian, name='objct')\n",
    "        return objective\n",
    "    \n",
    "    def fit(self, X, y, learning_rate=0.05, debug=False):\n",
    "        n_features, n_outputs = X.shape[1], y.shape[1]\n",
    "        self.beta = tfe.Variable(\n",
    "            tf.random_normal((n_features, n_outputs)),\n",
    "            name='beta'\n",
    "        )\n",
    "        X = tf.constant(X, dtype='float32')\n",
    "        y = tf.constant(y, dtype='float32')\n",
    "        grad = tfe.implicit_gradients(self.loss)\n",
    "        optimizer = tf.train.GradientDescentOptimizer(learning_rate)\n",
    "        this_grad = grad(X, y)\n",
    "        this_grad_mag = grad2mag(this_grad)\n",
    "        while np.abs(this_grad_mag) > 1e-8:\n",
    "            # for i in range(max_iters):\n",
    "            optimizer.apply_gradients(this_grad)\n",
    "            this_grad = grad(X, y)\n",
    "            this_grad_mag = grad2mag(this_grad)\n",
    "            if debug:\n",
    "                print('Magnitude of Gradient: ', this_grad_mag)\n",
    "        return self\n",
    "    "
   ]
  },
  {
   "cell_type": "code",
   "execution_count": 28,
   "metadata": {},
   "outputs": [
    {
     "name": "stderr",
     "output_type": "stream",
     "text": [
      "                                     \r"
     ]
    },
    {
     "ename": "InvalidArgumentError",
     "evalue": "cannot compute MatMul as input #1(zero-based) was expected to be a double tensor but is a float tensor [Op:MatMul] name: MatMul/",
     "output_type": "error",
     "traceback": [
      "\u001b[0;31m---------------------------------------------------------------------------\u001b[0m",
      "\u001b[0;31mInvalidArgumentError\u001b[0m                      Traceback (most recent call last)",
      "\u001b[0;32m<ipython-input-28-e0485c6d86dc>\u001b[0m in \u001b[0;36m<module>\u001b[0;34m\u001b[0m\n\u001b[1;32m     91\u001b[0m                             axis=1)\n\u001b[1;32m     92\u001b[0m     \u001b[0mmdl\u001b[0m \u001b[0;34m=\u001b[0m \u001b[0mTFlowLinmod\u001b[0m\u001b[0;34m(\u001b[0m\u001b[0mX_train\u001b[0m\u001b[0;34m.\u001b[0m\u001b[0mshape\u001b[0m\u001b[0;34m[\u001b[0m\u001b[0;36m1\u001b[0m\u001b[0;34m]\u001b[0m\u001b[0;34m,\u001b[0m \u001b[0my_train\u001b[0m\u001b[0;34m.\u001b[0m\u001b[0mshape\u001b[0m\u001b[0;34m[\u001b[0m\u001b[0;36m1\u001b[0m\u001b[0;34m]\u001b[0m\u001b[0;34m)\u001b[0m\u001b[0;34m\u001b[0m\u001b[0;34m\u001b[0m\u001b[0m\n\u001b[0;32m---> 93\u001b[0;31m     \u001b[0mmdl\u001b[0m\u001b[0;34m.\u001b[0m\u001b[0mfit\u001b[0m\u001b[0;34m(\u001b[0m\u001b[0mX_train\u001b[0m\u001b[0;34m,\u001b[0m \u001b[0my_train\u001b[0m\u001b[0;34m,\u001b[0m \u001b[0mlearning_rate\u001b[0m\u001b[0;34m=\u001b[0m\u001b[0;36m0.1\u001b[0m\u001b[0;34m,\u001b[0m \u001b[0mdebug\u001b[0m\u001b[0;34m=\u001b[0m\u001b[0;32mTrue\u001b[0m\u001b[0;34m)\u001b[0m\u001b[0;34m\u001b[0m\u001b[0;34m\u001b[0m\u001b[0m\n\u001b[0m\u001b[1;32m     94\u001b[0m     \u001b[0mprint\u001b[0m\u001b[0;34m(\u001b[0m\u001b[0;34m'hey'\u001b[0m\u001b[0;34m)\u001b[0m\u001b[0;34m\u001b[0m\u001b[0;34m\u001b[0m\u001b[0m\n\u001b[1;32m     95\u001b[0m     \u001b[0mmdl\u001b[0m\u001b[0;34m.\u001b[0m\u001b[0mfit\u001b[0m\u001b[0;34m(\u001b[0m\u001b[0mX_train\u001b[0m\u001b[0;34m,\u001b[0m \u001b[0my_train\u001b[0m\u001b[0;34m,\u001b[0m \u001b[0mlearning_rate\u001b[0m\u001b[0;34m=\u001b[0m\u001b[0;36m0.05\u001b[0m\u001b[0;34m,\u001b[0m \u001b[0mdebug\u001b[0m\u001b[0;34m=\u001b[0m\u001b[0;32mTrue\u001b[0m\u001b[0;34m)\u001b[0m\u001b[0;34m\u001b[0m\u001b[0;34m\u001b[0m\u001b[0m\n",
      "\u001b[0;32m<ipython-input-28-e0485c6d86dc>\u001b[0m in \u001b[0;36mfit\u001b[0;34m(self, X, y, learning_rate, max_iters, debug)\u001b[0m\n\u001b[1;32m     44\u001b[0m         \u001b[0my\u001b[0m \u001b[0;34m=\u001b[0m \u001b[0mtf\u001b[0m\u001b[0;34m.\u001b[0m\u001b[0mconstant\u001b[0m\u001b[0;34m(\u001b[0m\u001b[0my\u001b[0m\u001b[0;34m)\u001b[0m\u001b[0;34m\u001b[0m\u001b[0;34m\u001b[0m\u001b[0m\n\u001b[1;32m     45\u001b[0m         objective = self.loss(tf.cast(X, tf.float64),\n\u001b[0;32m---> 46\u001b[0;31m                               tf.cast(y, tf.float64))\n\u001b[0m\u001b[1;32m     47\u001b[0m         \u001b[0mgrad\u001b[0m \u001b[0;34m=\u001b[0m \u001b[0mtfe\u001b[0m\u001b[0;34m.\u001b[0m\u001b[0mimplicit_gradients\u001b[0m\u001b[0;34m(\u001b[0m\u001b[0mself\u001b[0m\u001b[0;34m.\u001b[0m\u001b[0mloss\u001b[0m\u001b[0;34m)\u001b[0m\u001b[0;34m\u001b[0m\u001b[0;34m\u001b[0m\u001b[0m\n\u001b[1;32m     48\u001b[0m         \u001b[0moptimizer\u001b[0m \u001b[0;34m=\u001b[0m \u001b[0mtf\u001b[0m\u001b[0;34m.\u001b[0m\u001b[0mtrain\u001b[0m\u001b[0;34m.\u001b[0m\u001b[0mGradientDescentOptimizer\u001b[0m\u001b[0;34m(\u001b[0m\u001b[0mlearning_rate\u001b[0m\u001b[0;34m)\u001b[0m\u001b[0;34m\u001b[0m\u001b[0;34m\u001b[0m\u001b[0m\n",
      "\u001b[0;32m<ipython-input-28-e0485c6d86dc>\u001b[0m in \u001b[0;36mloss\u001b[0;34m(self, X, y)\u001b[0m\n\u001b[1;32m     25\u001b[0m \u001b[0;34m\u001b[0m\u001b[0m\n\u001b[1;32m     26\u001b[0m     \u001b[0;32mdef\u001b[0m \u001b[0mloss\u001b[0m\u001b[0;34m(\u001b[0m\u001b[0mself\u001b[0m\u001b[0;34m,\u001b[0m \u001b[0mX\u001b[0m\u001b[0;34m,\u001b[0m \u001b[0my\u001b[0m\u001b[0;34m)\u001b[0m\u001b[0;34m:\u001b[0m\u001b[0;34m\u001b[0m\u001b[0;34m\u001b[0m\u001b[0m\n\u001b[0;32m---> 27\u001b[0;31m         \u001b[0mmse\u001b[0m \u001b[0;34m=\u001b[0m \u001b[0mself\u001b[0m\u001b[0;34m.\u001b[0m\u001b[0m_mse\u001b[0m\u001b[0;34m(\u001b[0m\u001b[0mX\u001b[0m\u001b[0;34m,\u001b[0m \u001b[0my\u001b[0m\u001b[0;34m)\u001b[0m\u001b[0;34m\u001b[0m\u001b[0;34m\u001b[0m\u001b[0m\n\u001b[0m\u001b[1;32m     28\u001b[0m         \u001b[0;32mif\u001b[0m \u001b[0mself\u001b[0m\u001b[0;34m.\u001b[0m\u001b[0mn_features\u001b[0m \u001b[0;34m<\u001b[0m \u001b[0mX\u001b[0m\u001b[0;34m.\u001b[0m\u001b[0mshape\u001b[0m\u001b[0;34m[\u001b[0m\u001b[0;36m0\u001b[0m\u001b[0;34m]\u001b[0m\u001b[0;34m:\u001b[0m\u001b[0;34m\u001b[0m\u001b[0;34m\u001b[0m\u001b[0m\n\u001b[1;32m     29\u001b[0m             \u001b[0mobjective\u001b[0m \u001b[0;34m=\u001b[0m \u001b[0mtf\u001b[0m\u001b[0;34m.\u001b[0m\u001b[0mreduce_mean\u001b[0m\u001b[0;34m(\u001b[0m\u001b[0mmse\u001b[0m\u001b[0;34m,\u001b[0m \u001b[0mname\u001b[0m\u001b[0;34m=\u001b[0m\u001b[0;34m'obj'\u001b[0m\u001b[0;34m)\u001b[0m\u001b[0;34m\u001b[0m\u001b[0;34m\u001b[0m\u001b[0m\n",
      "\u001b[0;32m<ipython-input-28-e0485c6d86dc>\u001b[0m in \u001b[0;36m_mse\u001b[0;34m(self, X, y)\u001b[0m\n\u001b[1;32m     20\u001b[0m \u001b[0;34m\u001b[0m\u001b[0m\n\u001b[1;32m     21\u001b[0m     \u001b[0;32mdef\u001b[0m \u001b[0m_mse\u001b[0m\u001b[0;34m(\u001b[0m\u001b[0mself\u001b[0m\u001b[0;34m,\u001b[0m \u001b[0mX\u001b[0m\u001b[0;34m,\u001b[0m \u001b[0my\u001b[0m\u001b[0;34m)\u001b[0m\u001b[0;34m:\u001b[0m\u001b[0;34m\u001b[0m\u001b[0;34m\u001b[0m\u001b[0m\n\u001b[0;32m---> 22\u001b[0;31m         \u001b[0mresids\u001b[0m \u001b[0;34m=\u001b[0m \u001b[0my\u001b[0m \u001b[0;34m-\u001b[0m \u001b[0mtf\u001b[0m\u001b[0;34m.\u001b[0m\u001b[0mmatmul\u001b[0m\u001b[0;34m(\u001b[0m\u001b[0mX\u001b[0m\u001b[0;34m,\u001b[0m \u001b[0mself\u001b[0m\u001b[0;34m.\u001b[0m\u001b[0mbeta\u001b[0m\u001b[0;34m)\u001b[0m\u001b[0;34m\u001b[0m\u001b[0;34m\u001b[0m\u001b[0m\n\u001b[0m\u001b[1;32m     23\u001b[0m         \u001b[0mmse\u001b[0m \u001b[0;34m=\u001b[0m \u001b[0mtf\u001b[0m\u001b[0;34m.\u001b[0m\u001b[0mreduce_mean\u001b[0m\u001b[0;34m(\u001b[0m\u001b[0mtf\u001b[0m\u001b[0;34m.\u001b[0m\u001b[0msquare\u001b[0m\u001b[0;34m(\u001b[0m\u001b[0mresids\u001b[0m\u001b[0;34m)\u001b[0m\u001b[0;34m,\u001b[0m \u001b[0maxis\u001b[0m\u001b[0;34m=\u001b[0m\u001b[0;36m0\u001b[0m\u001b[0;34m)\u001b[0m\u001b[0;34m\u001b[0m\u001b[0;34m\u001b[0m\u001b[0m\n\u001b[1;32m     24\u001b[0m         \u001b[0;32mreturn\u001b[0m \u001b[0mmse\u001b[0m\u001b[0;34m\u001b[0m\u001b[0;34m\u001b[0m\u001b[0m\n",
      "\u001b[0;32m~/.local/lib/python3.6/site-packages/tensorflow/python/util/dispatch.py\u001b[0m in \u001b[0;36mwrapper\u001b[0;34m(*args, **kwargs)\u001b[0m\n\u001b[1;32m    178\u001b[0m     \u001b[0;34m\"\"\"Call target, and fall back on dispatchers if there is a TypeError.\"\"\"\u001b[0m\u001b[0;34m\u001b[0m\u001b[0;34m\u001b[0m\u001b[0m\n\u001b[1;32m    179\u001b[0m     \u001b[0;32mtry\u001b[0m\u001b[0;34m:\u001b[0m\u001b[0;34m\u001b[0m\u001b[0;34m\u001b[0m\u001b[0m\n\u001b[0;32m--> 180\u001b[0;31m       \u001b[0;32mreturn\u001b[0m \u001b[0mtarget\u001b[0m\u001b[0;34m(\u001b[0m\u001b[0;34m*\u001b[0m\u001b[0margs\u001b[0m\u001b[0;34m,\u001b[0m \u001b[0;34m**\u001b[0m\u001b[0mkwargs\u001b[0m\u001b[0;34m)\u001b[0m\u001b[0;34m\u001b[0m\u001b[0;34m\u001b[0m\u001b[0m\n\u001b[0m\u001b[1;32m    181\u001b[0m     \u001b[0;32mexcept\u001b[0m \u001b[0;34m(\u001b[0m\u001b[0mTypeError\u001b[0m\u001b[0;34m,\u001b[0m \u001b[0mValueError\u001b[0m\u001b[0;34m)\u001b[0m\u001b[0;34m:\u001b[0m\u001b[0;34m\u001b[0m\u001b[0;34m\u001b[0m\u001b[0m\n\u001b[1;32m    182\u001b[0m       \u001b[0;31m# Note: convert_to_eager_tensor currently raises a ValueError, not a\u001b[0m\u001b[0;34m\u001b[0m\u001b[0;34m\u001b[0m\u001b[0;34m\u001b[0m\u001b[0m\n",
      "\u001b[0;32m~/.local/lib/python3.6/site-packages/tensorflow/python/ops/math_ops.py\u001b[0m in \u001b[0;36mmatmul\u001b[0;34m(a, b, transpose_a, transpose_b, adjoint_a, adjoint_b, a_is_sparse, b_is_sparse, name)\u001b[0m\n\u001b[1;32m   2645\u001b[0m     \u001b[0;32melse\u001b[0m\u001b[0;34m:\u001b[0m\u001b[0;34m\u001b[0m\u001b[0;34m\u001b[0m\u001b[0m\n\u001b[1;32m   2646\u001b[0m       return gen_math_ops.mat_mul(\n\u001b[0;32m-> 2647\u001b[0;31m           a, b, transpose_a=transpose_a, transpose_b=transpose_b, name=name)\n\u001b[0m\u001b[1;32m   2648\u001b[0m \u001b[0;34m\u001b[0m\u001b[0m\n\u001b[1;32m   2649\u001b[0m \u001b[0;34m\u001b[0m\u001b[0m\n",
      "\u001b[0;32m~/.local/lib/python3.6/site-packages/tensorflow/python/ops/gen_math_ops.py\u001b[0m in \u001b[0;36mmat_mul\u001b[0;34m(a, b, transpose_a, transpose_b, name)\u001b[0m\n\u001b[1;32m   5913\u001b[0m       \u001b[0;32melse\u001b[0m\u001b[0;34m:\u001b[0m\u001b[0;34m\u001b[0m\u001b[0;34m\u001b[0m\u001b[0m\n\u001b[1;32m   5914\u001b[0m         \u001b[0mmessage\u001b[0m \u001b[0;34m=\u001b[0m \u001b[0me\u001b[0m\u001b[0;34m.\u001b[0m\u001b[0mmessage\u001b[0m\u001b[0;34m\u001b[0m\u001b[0;34m\u001b[0m\u001b[0m\n\u001b[0;32m-> 5915\u001b[0;31m       \u001b[0m_six\u001b[0m\u001b[0;34m.\u001b[0m\u001b[0mraise_from\u001b[0m\u001b[0;34m(\u001b[0m\u001b[0m_core\u001b[0m\u001b[0;34m.\u001b[0m\u001b[0m_status_to_exception\u001b[0m\u001b[0;34m(\u001b[0m\u001b[0me\u001b[0m\u001b[0;34m.\u001b[0m\u001b[0mcode\u001b[0m\u001b[0;34m,\u001b[0m \u001b[0mmessage\u001b[0m\u001b[0;34m)\u001b[0m\u001b[0;34m,\u001b[0m \u001b[0;32mNone\u001b[0m\u001b[0;34m)\u001b[0m\u001b[0;34m\u001b[0m\u001b[0;34m\u001b[0m\u001b[0m\n\u001b[0m\u001b[1;32m   5916\u001b[0m   \u001b[0;31m# Add nodes to the TensorFlow graph.\u001b[0m\u001b[0;34m\u001b[0m\u001b[0;34m\u001b[0m\u001b[0;34m\u001b[0m\u001b[0m\n\u001b[1;32m   5917\u001b[0m   \u001b[0;32mif\u001b[0m \u001b[0mtranspose_a\u001b[0m \u001b[0;32mis\u001b[0m \u001b[0;32mNone\u001b[0m\u001b[0;34m:\u001b[0m\u001b[0;34m\u001b[0m\u001b[0;34m\u001b[0m\u001b[0m\n",
      "\u001b[0;32m/usr/lib/python3/dist-packages/six.py\u001b[0m in \u001b[0;36mraise_from\u001b[0;34m(value, from_value)\u001b[0m\n",
      "\u001b[0;31mInvalidArgumentError\u001b[0m: cannot compute MatMul as input #1(zero-based) was expected to be a double tensor but is a float tensor [Op:MatMul] name: MatMul/"
     ]
    }
   ],
   "source": [
    "from sklearn.linear_model.base import (\n",
    "    LinearModel, RegressorMixin, MultiOutputMixin\n",
    ")\n",
    "class TFlowLinmod(LinearModel, RegressorMixin, MultiOutputMixin):\n",
    "    def __init__(self, n_features, n_outputs):\n",
    "        self.n_outputs = n_outputs\n",
    "        self.n_features = n_features\n",
    "        self.intercept_ = 0.0\n",
    "        self.beta = tfe.Variable(\n",
    "            tf.random_normal((n_features, n_outputs)),\n",
    "            name='beta'\n",
    "        )\n",
    "    \n",
    "    @property\n",
    "    def coef_(self):\n",
    "        coef_ = self.beta.numpy()\n",
    "        if self.n_outputs > 1:\n",
    "            return coef_.T\n",
    "        return coef_\n",
    "        \n",
    "    def _mse(self, X, y):\n",
    "        resids = y - tf.matmul(X, self.beta)\n",
    "        mse = tf.reduce_mean(tf.square(resids), axis=0)\n",
    "        return mse\n",
    "    \n",
    "    def loss(self, X, y):\n",
    "        mse = self._mse(X, y)\n",
    "        if self.n_features < X.shape[0]:\n",
    "            objective = tf.reduce_mean(mse, name='obj')\n",
    "        else:\n",
    "            lamb = tfe.Variable(tf.random_normal((self.n_outputs,)),\n",
    "                                name='lambda')\n",
    "            legrangian = tf.reduce_mean(\n",
    "                tf.dot(mse, tf.abs(lamb)),\n",
    "                name='legrange'\n",
    "            )\n",
    "            objective = tf.add(tf.norm(self.beta, ord=2),\n",
    "                               legrangian, name='objct')\n",
    "        return objective\n",
    "    \n",
    "    def fit(self, X, y, learning_rate=0.05,\n",
    "            max_iters=20, debug=False):\n",
    "        X = tf.constant(X)\n",
    "        y = tf.constant(y)\n",
    "        objective = self.loss(tf.cast(X, tf.float64),\n",
    "                              tf.cast(y, tf.float64))\n",
    "        grad = tfe.implicit_gradients(self.loss)\n",
    "        optimizer = tf.train.GradientDescentOptimizer(learning_rate)\n",
    "#         train_step = optimizer.minimize(objective)\n",
    "#         with tf.compat.v1.Session() as sess:\n",
    "#             init = tf.compat.v1.global_variables_initializer()\n",
    "#             sess.run(init)\n",
    "        loss_vec = []\n",
    "        for i in range(max_iters):\n",
    "            this_grad = grad(X, y)\n",
    "            optimizer.apply_gradients(this_grad)\n",
    "            this_loss = np.linalg.norm(this_grad)\n",
    "#             sess.run(train_step,\n",
    "#                      feed_dict={self.X_pl: X,\n",
    "#                                 self.y_pl: y})\n",
    "#             this_loss = np.linalg.norm(\n",
    "#                 sess.run(\n",
    "#                     optimizer.compute_gradients(\n",
    "#                         self.objective,\n",
    "#                         var_list=[self.beta],),\n",
    "#                     feed_dict={self.X_pl: X,\n",
    "#                                self.y_pl: y}))\n",
    "\n",
    "            if debug:\n",
    "                print('loss: ', this_loss)\n",
    "            loss_vec.append(this_loss)\n",
    "            allsmall = np.allclose(np.zeros_like(loss_vec),\n",
    "                                   loss_vec,\n",
    "                                   atol=1e-5)\n",
    "            if allsmall and len(loss_vec) >= 10:\n",
    "                break\n",
    "            while len(loss_vec) > 10:\n",
    "                loss_vec.pop()\n",
    "        self.coef_ = sess.run(self.beta).T  # sklearn is weird\n",
    "\n",
    "tmp = feature_numbers[10:11]  # [27:28]\n",
    "results_ = []\n",
    "for num_feats in tqdm(tmp, leave=False):\n",
    "    X_train_ = all_features[:, :num_feats]\n",
    "    X_train = np.concatenate([np.sin(X_train_),\n",
    "                              np.cos(X_train_)],\n",
    "                             axis=1)\n",
    "    X_test_ = test_images.dot(rff_args[:, :num_feats])\n",
    "    X_test = np.concatenate([np.sin(X_test_),\n",
    "                             np.cos(X_test_)],\n",
    "                            axis=1)\n",
    "    mdl = TFlowLinmod(X_train.shape[1], y_train.shape[1])\n",
    "    mdl.fit(X_train, y_train, learning_rate=0.1, debug=True)\n",
    "    print('hey')\n",
    "    mdl.fit(X_train, y_train, learning_rate=0.05, debug=True)\n",
    "    train_preds = mdl.predict(X_train)\n",
    "    test_preds = mdl.predict(X_test)\n",
    "    results_.append({\n",
    "        # because np.int64 is not json serializable\n",
    "        'num_feats': int(num_feats),\n",
    "        'in-sample': np.linalg.norm(\n",
    "            train_preds.reshape((-1,)) - y_train.reshape((-1,)), 2\n",
    "        ),\n",
    "        'out-of-sample': np.linalg.norm(\n",
    "            test_preds.reshape((-1,)) - y_test.reshape((-1,)), 2\n",
    "        )\n",
    "    })\n",
    "results = pd.DataFrame(results_).set_index('num_feats')\n",
    "results.clip(upper=80).plot(figsize=(13,8))\n",
    "\n",
    "results"
   ]
  },
  {
   "cell_type": "code",
   "execution_count": 21,
   "metadata": {},
   "outputs": [
    {
     "name": "stderr",
     "output_type": "stream",
     "text": [
      "                                     \r"
     ]
    },
    {
     "ename": "TypeError",
     "evalue": "__init__() got an unexpected keyword argument 'max_iters'",
     "output_type": "error",
     "traceback": [
      "\u001b[0;31m---------------------------------------------------------------------------\u001b[0m",
      "\u001b[0;31mTypeError\u001b[0m                                 Traceback (most recent call last)",
      "\u001b[0;32m<ipython-input-21-1ebf28b824d2>\u001b[0m in \u001b[0;36m<module>\u001b[0;34m\u001b[0m\n\u001b[1;32m     11\u001b[0m                             axis=1)\n\u001b[1;32m     12\u001b[0m     mdl = TFlowLinmod(*X_train.shape, y_train.shape[1],\n\u001b[0;32m---> 13\u001b[0;31m                       max_iters=1e3)\n\u001b[0m\u001b[1;32m     14\u001b[0m     \u001b[0mmdl\u001b[0m\u001b[0;34m.\u001b[0m\u001b[0mfit\u001b[0m\u001b[0;34m(\u001b[0m\u001b[0mX_train\u001b[0m\u001b[0;34m,\u001b[0m \u001b[0my_train\u001b[0m\u001b[0;34m)\u001b[0m\u001b[0;34m\u001b[0m\u001b[0;34m\u001b[0m\u001b[0m\n\u001b[1;32m     15\u001b[0m     \u001b[0mtrain_preds\u001b[0m \u001b[0;34m=\u001b[0m \u001b[0mmdl\u001b[0m\u001b[0;34m.\u001b[0m\u001b[0mpredict\u001b[0m\u001b[0;34m(\u001b[0m\u001b[0mX_train\u001b[0m\u001b[0;34m)\u001b[0m\u001b[0;34m\u001b[0m\u001b[0;34m\u001b[0m\u001b[0m\n",
      "\u001b[0;31mTypeError\u001b[0m: __init__() got an unexpected keyword argument 'max_iters'"
     ]
    }
   ],
   "source": [
    "results_ = []\n",
    "for num_feats in tqdm(feature_numbers[27:28], leave=False):\n",
    "    X_train_ = all_features[:, :num_feats]\n",
    "    X_train = np.concatenate([np.sin(X_train_),\n",
    "                              np.cos(X_train_)],\n",
    "                             axis=1)\n",
    "    X_test_ = test_images.dot(rff_args[:, :num_feats])\n",
    "    X_test = np.concatenate([np.sin(X_test_),\n",
    "                             np.cos(X_test_)],\n",
    "                            axis=1)\n",
    "    mdl = TFlowLinmod(*X_train.shape, y_train.shape[1],\n",
    "                      max_iters=1e3)\n",
    "    mdl.fit(X_train, y_train)\n",
    "    train_preds = mdl.predict(X_train)\n",
    "    test_preds = mdl.predict(X_test)\n",
    "    results_.append({\n",
    "        # because np.int64 is not json serializable\n",
    "        'num_feats': int(num_feats),\n",
    "        'in-sample': np.linalg.norm(\n",
    "            train_preds.reshape((-1,)) - y_train.reshape((-1,)), 2\n",
    "        ),\n",
    "        'out-of-sample': np.linalg.norm(\n",
    "            test_preds.reshape((-1,)) - y_test.reshape((-1,)), 2\n",
    "        )\n",
    "    })\n",
    "results = pd.DataFrame(results_).set_index('num_feats')\n",
    "results.clip(upper=80).plot(figsize=(13,8))\n",
    "\n",
    "results"
   ]
  },
  {
   "cell_type": "code",
   "execution_count": null,
   "metadata": {},
   "outputs": [],
   "source": []
  },
  {
   "cell_type": "code",
   "execution_count": null,
   "metadata": {},
   "outputs": [],
   "source": [
    "results_ = []\n",
    "for num_feats in tqdm(feature_numbers):\n",
    "    X_train_ = train_images.dot(rff_args[:, :num_feats])\n",
    "    X_train = np.concatenate([np.sin(X_train_), np.cos(X_train_)],\n",
    "                             axis=1)\n",
    "    X_test_ = test_images.dot(rff_args[:, :num_feats])\n",
    "    X_test = np.concatenate([np.sin(X_test_), np.cos(X_test_)],\n",
    "                            axis=1)\n",
    "    for penalty in np.logspace(-3, 0, 20):\n",
    "        linmod = Ridge(penalty, fit_intercept=False)\n",
    "        linmod.fit(X_train, y_train)\n",
    "        train_preds = linmod.predict(X_train)\n",
    "        test_preds = linmod.predict(X_test)\n",
    "        results_.append({\n",
    "            'num_feats': int(num_feats),\n",
    "            'penalty': penalty,\n",
    "            'in-sample': np.linalg.norm(\n",
    "                train_preds.reshape((-1,)) - y_train.reshape((-1,)), 2\n",
    "            ),\n",
    "            'out-of-sample': np.linalg.norm(\n",
    "                test_preds.reshape((-1,)) - y_test.reshape((-1,)), 2\n",
    "            )\n",
    "        })\n",
    "results = pd.DataFrame(results_).set_index(['num_feats', 'penalty'])\n",
    "results.mean(axis=0, level='num_feats').plot(figsize=(13,8))\n",
    "\n",
    "with open('base_ridge_results.json', 'w+') as f:\n",
    "    f.write(json.dumps(results_))s"
   ]
  },
  {
   "cell_type": "code",
   "execution_count": 7,
   "metadata": {},
   "outputs": [
    {
     "name": "stderr",
     "output_type": "stream",
     "text": [
      "100%|██████████| 37/37 [01:17<00:00,  9.41s/it]\n"
     ]
    },
    {
     "data": {
      "image/png": "[encoded data removed]",
      "text/plain": [
       "<Figure size 936x576 with 1 Axes>"
      ]
     },
     "metadata": {
      "needs_background": "light"
     },
     "output_type": "display_data"
    }
   ],
   "source": [
    "results_ = []\n",
    "for num_feats in tqdm(feature_numbers):\n",
    "    X_train_ = train_images.dot(rff_args[:, :num_feats])\n",
    "    X_train = np.concatenate([np.sin(X_train_), np.cos(X_train_)],\n",
    "                             axis=1)\n",
    "    X_test_ = test_images.dot(rff_args[:, :num_feats])\n",
    "    X_test = np.concatenate([np.sin(X_test_), np.cos(X_test_)],\n",
    "                            axis=1)\n",
    "    for penalty in np.logspace(-3, 0, 20):\n",
    "        linmod = Ridge(penalty, fit_intercept=False)\n",
    "        linmod.fit(X_train, y_train)\n",
    "        train_preds = linmod.predict(X_train)\n",
    "        test_preds = linmod.predict(X_test)\n",
    "        results_.append({\n",
    "            'num_feats': int(num_feats),\n",
    "            'penalty': penalty,\n",
    "            'in-sample': np.linalg.norm(\n",
    "                train_preds.reshape((-1,)) - y_train.reshape((-1,)), 2\n",
    "            ),\n",
    "            'out-of-sample': np.linalg.norm(\n",
    "                test_preds.reshape((-1,)) - y_test.reshape((-1,)), 2\n",
    "            )\n",
    "        })\n",
    "results = pd.DataFrame(results_).set_index(['num_feats', 'penalty'])\n",
    "results.mean(axis=0, level='num_feats').plot(figsize=(13,8))\n",
    "\n",
    "with open('base_ridge_results.json', 'w+') as f:\n",
    "    f.write(json.dumps(results_))"
   ]
  },
  {
   "cell_type": "code",
   "execution_count": 8,
   "metadata": {},
   "outputs": [
    {
     "name": "stderr",
     "output_type": "stream",
     "text": [
      "100%|██████████| 37/37 [12:39<00:00, 114.77s/it]\n"
     ]
    },
    {
     "data": {
      "image/png": "[encoded data removed]",
      "text/plain": [
       "<Figure size 936x576 with 1 Axes>"
      ]
     },
     "metadata": {
      "needs_background": "light"
     },
     "output_type": "display_data"
    }
   ],
   "source": [
    "results_ = []\n",
    "for num_feats in tqdm(feature_numbers):\n",
    "    X_train_ = train_images.dot(rff_args[:, :num_feats])\n",
    "    X_train = np.concatenate([np.sin(X_train_), np.cos(X_train_)],\n",
    "                             axis=1)\n",
    "    X_test_ = test_images.dot(rff_args[:, :num_feats])\n",
    "    X_test = np.concatenate([np.sin(X_test_), np.cos(X_test_)],\n",
    "                            axis=1)\n",
    "    for penalty in np.logspace(-3, 0, 20):\n",
    "        linmod = Lasso(penalty, fit_intercept=False)\n",
    "        linmod.fit(X_train, y_train)\n",
    "        train_preds = linmod.predict(X_train)\n",
    "        test_preds = linmod.predict(X_test)\n",
    "        results_.append({\n",
    "            'num_feats': int(num_feats),\n",
    "            'penalty': penalty,\n",
    "            'in-sample': np.linalg.norm(\n",
    "                train_preds.reshape((-1,)) - y_train.reshape((-1,)), 2\n",
    "            ),\n",
    "            'out-of-sample': np.linalg.norm(\n",
    "                test_preds.reshape((-1,)) - y_test.reshape((-1,)), 2\n",
    "            )\n",
    "        })\n",
    "results = pd.DataFrame(results_).set_index(['num_feats', 'penalty'])\n",
    "results.mean(axis=0, level='num_feats').plot(figsize=(13,8))\n",
    "\n",
    "with open('base_lasso_results.json', 'w+') as f:\n",
    "    f.write(json.dumps(results_))"
   ]
  },
  {
   "cell_type": "code",
   "execution_count": 10,
   "metadata": {},
   "outputs": [],
   "source": [
    "import seaborn as sns"
   ]
  },
  {
   "cell_type": "code",
   "execution_count": 11,
   "metadata": {},
   "outputs": [],
   "source": [
    "import matplotlib.pyplot as plt"
   ]
  },
  {
   "cell_type": "code",
   "execution_count": 12,
   "metadata": {},
   "outputs": [
    {
     "data": {
      "text/html": [
       "<div>\n",
       "<style scoped>\n",
       "    .dataframe tbody tr th:only-of-type {\n",
       "        vertical-align: middle;\n",
       "    }\n",
       "\n",
       "    .dataframe tbody tr th {\n",
       "        vertical-align: top;\n",
       "    }\n",
       "\n",
       "    .dataframe thead th {\n",
       "        text-align: right;\n",
       "    }\n",
       "</style>\n",
       "<table border=\"1\" class=\"dataframe\">\n",
       "  <thead>\n",
       "    <tr style=\"text-align: right;\">\n",
       "      <th></th>\n",
       "      <th></th>\n",
       "      <th>in-sample</th>\n",
       "      <th>out-of-sample</th>\n",
       "    </tr>\n",
       "    <tr>\n",
       "      <th>num_feats</th>\n",
       "      <th>penalty</th>\n",
       "      <th></th>\n",
       "      <th></th>\n",
       "    </tr>\n",
       "  </thead>\n",
       "  <tbody>\n",
       "    <tr>\n",
       "      <th rowspan=\"5\" valign=\"top\">1</th>\n",
       "      <th>0.001000</th>\n",
       "      <td>31.587212</td>\n",
       "      <td>31.603494</td>\n",
       "    </tr>\n",
       "    <tr>\n",
       "      <th>0.001438</th>\n",
       "      <td>31.587799</td>\n",
       "      <td>31.603028</td>\n",
       "    </tr>\n",
       "    <tr>\n",
       "      <th>0.002069</th>\n",
       "      <td>31.588894</td>\n",
       "      <td>31.602805</td>\n",
       "    </tr>\n",
       "    <tr>\n",
       "      <th>0.002976</th>\n",
       "      <td>31.590803</td>\n",
       "      <td>31.602678</td>\n",
       "    </tr>\n",
       "    <tr>\n",
       "      <th>0.004281</th>\n",
       "      <td>31.594389</td>\n",
       "      <td>31.603725</td>\n",
       "    </tr>\n",
       "  </tbody>\n",
       "</table>\n",
       "</div>"
      ],
      "text/plain": [
       "                    in-sample  out-of-sample\n",
       "num_feats penalty                           \n",
       "1         0.001000  31.587212      31.603494\n",
       "          0.001438  31.587799      31.603028\n",
       "          0.002069  31.588894      31.602805\n",
       "          0.002976  31.590803      31.602678\n",
       "          0.004281  31.594389      31.603725"
      ]
     },
     "execution_count": 12,
     "metadata": {},
     "output_type": "execute_result"
    }
   ],
   "source": [
    "results.head()"
   ]
  },
  {
   "cell_type": "code",
   "execution_count": 18,
   "metadata": {},
   "outputs": [
    {
     "data": {
      "image/png": "[encoded data removed]",
      "text/plain": [
       "<Figure size 432x288 with 1 Axes>"
      ]
     },
     "metadata": {
      "needs_background": "light"
     },
     "output_type": "display_data"
    }
   ],
   "source": [
    "plt.hexbin(\n",
    "    results.reset_index()['num_feats'],\n",
    "    results.reset_index()['penalty'],\n",
    "    C=results['in-sample'],\n",
    ");"
   ]
  }
 ],
 "metadata": {
  "kernelspec": {
   "display_name": "Python 3",
   "language": "python",
   "name": "python3"
  },
  "language_info": {
   "codemirror_mode": {
    "name": "ipython",
    "version": 3
   },
   "file_extension": ".py",
   "mimetype": "text/x-python",
   "name": "python",
   "nbconvert_exporter": "python",
   "pygments_lexer": "ipython3",
   "version": "3.6.8"
  }
 },
 "nbformat": 4,
 "nbformat_minor": 2
}
