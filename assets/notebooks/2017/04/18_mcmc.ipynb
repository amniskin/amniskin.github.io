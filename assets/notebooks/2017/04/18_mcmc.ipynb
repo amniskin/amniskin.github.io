{
 "cells": [
  {
   "cell_type": "code",
   "execution_count": 1,
   "metadata": {
    "collapsed": true,
    "slideshow": {
     "slide_type": "skip"
    }
   },
   "outputs": [],
   "source": [
    "import numpy as np\n",
    "import matplotlib.pyplot as plt\n",
    "import matplotlib.pylab as plb\n",
    "import seaborn\n",
    "import pandas as pd\n",
    "\n",
    "np.random.seed(1234)\n",
    "\n",
    "from IPython.core.interactiveshell import InteractiveShell\n",
    "InteractiveShell.ast_node_interactivity = \"last_expr\""
   ]
  },
  {
   "cell_type": "code",
   "execution_count": 2,
   "metadata": {
    "collapsed": true,
    "slideshow": {
     "slide_type": "skip"
    }
   },
   "outputs": [],
   "source": [
    "%%bash\n",
    "if [ ! -d tmp ]\n",
    "then\n",
    "mkdir tmp\n",
    "fi"
   ]
  },
  {
   "cell_type": "markdown",
   "metadata": {
    "slideshow": {
     "slide_type": "slide"
    }
   },
   "source": [
    "# $$\\text{???} = (MC)^2$$"
   ]
  },
  {
   "cell_type": "markdown",
   "metadata": {
    "slideshow": {
     "slide_type": "slide"
    }
   },
   "source": [
    "## Background\n",
    "\n",
    "What if we know the relative likelihood, but want the probability distribution?"
   ]
  },
  {
   "cell_type": "markdown",
   "metadata": {
    "slideshow": {
     "slide_type": "fragment"
    }
   },
   "source": [
    "$$\\mathbb{P}(X=x) = \\frac{f(x)}{\\int_{-\\infty}^\\infty f(x)dx}$$"
   ]
  },
  {
   "cell_type": "markdown",
   "metadata": {
    "slideshow": {
     "slide_type": "fragment"
    }
   },
   "source": [
    "But what if $\\int f(x)dx$ is hard, or you can't sample from $f$ directly?"
   ]
  },
  {
   "cell_type": "markdown",
   "metadata": {
    "slideshow": {
     "slide_type": "fragment"
    }
   },
   "source": [
    "This is the problem we will be trying to solve."
   ]
  },
  {
   "cell_type": "markdown",
   "metadata": {
    "slideshow": {
     "slide_type": "slide"
    }
   },
   "source": [
    "## First approach\n",
    "If space if bounded (integral is between $a,b$) we can use Monte Carlo to estimate $\\int\\limits_a^b f(x)dx$\n",
    "\n",
    "- Pick $\\alpha \\in (a,b)$\n",
    "- Compute $f(\\alpha)/(b-a)$\n",
    "- Repeat as necessary\n",
    "- Compute the expected value of the computed values"
   ]
  },
  {
   "cell_type": "markdown",
   "metadata": {
    "slideshow": {
     "slide_type": "slide"
    }
   },
   "source": [
    "## What if hard?\n",
    "What if we can't sample from $f(x)$ but can only determine likelihood ratios?\n",
    "\n",
    "$$\\frac{f(x)}{f(y)}$$"
   ]
  },
  {
   "cell_type": "markdown",
   "metadata": {
    "slideshow": {
     "slide_type": "fragment"
    }
   },
   "source": [
    "### Markov Chain Monte Carlo"
   ]
  },
  {
   "cell_type": "markdown",
   "metadata": {
    "collapsed": true,
    "slideshow": {
     "slide_type": "slide"
    }
   },
   "source": [
    "# The obligatory basics\n",
    "A **Markov Chain** is a stochastic process (a collection of indexed random variables) such that $\\mathbb{P}(X_n=x|X_0,X_1,...,X_{n-1}) = \\mathbb{P}(X_n=x|X_{n-1})$.\n",
    "\n",
    "In other words, the conditional probabilities only depend on the last state, not on any deeper history."
   ]
  },
  {
   "cell_type": "markdown",
   "metadata": {
    "slideshow": {
     "slide_type": "fragment"
    }
   },
   "source": [
    "We call the set of all possible values of $X_i$ the **state space** and denote it by, $\\chi$."
   ]
  },
  {
   "cell_type": "markdown",
   "metadata": {
    "collapsed": true,
    "slideshow": {
     "slide_type": "slide"
    }
   },
   "source": [
    "### Transition Matrix\n",
    "Let $p_{ij} = \\mathbb{P}(X_1 = j | X_0 = i)$. We call the matrix $(p_{ij})$ the **Transition Matrix** of $X$ and denote it $P$."
   ]
  },
  {
   "cell_type": "markdown",
   "metadata": {
    "slideshow": {
     "slide_type": "fragment"
    }
   },
   "source": [
    "Let $\\mu_n = \\left(\\mathbb{P}(X_n=0), \\mathbb{P}(X_n=1),..., \\mathbb{P}(X_n=l)\\right)$ be the row vector corresponding to the \"probabilities\" of being at each state at the $n$th point in time (iteration)."
   ]
  },
  {
   "cell_type": "markdown",
   "metadata": {
    "slideshow": {
     "slide_type": "fragment"
    }
   },
   "source": [
    "Claim: $\\mu_{i+1} = \\mu_0P^{i+1}$"
   ]
  },
  {
   "cell_type": "markdown",
   "metadata": {
    "slideshow": {
     "slide_type": "subslide"
    }
   },
   "source": [
    "$$\\begin{align*}\n",
    "(\\mu_0 P)_j =& \\sum\\limits_{i=1}^l\\mu_0(i)p_{ij}\\\\\n",
    "=&\\sum\\limits_{i=1}^l\\mathbb{P}(X_0=i)\\mathbb{P}(X_1=j | X_0=i)\\\\\n",
    "=&\\mathbb{P}(X_1 = j)\\\\\n",
    "=&\\mu_1(j)\n",
    "\\end{align*}$$"
   ]
  },
  {
   "cell_type": "markdown",
   "metadata": {
    "slideshow": {
     "slide_type": "fragment"
    }
   },
   "source": [
    "So: $\\mu_1 = \\mu_0P$."
   ]
  },
  {
   "cell_type": "markdown",
   "metadata": {
    "collapsed": true,
    "slideshow": {
     "slide_type": "slide"
    }
   },
   "source": [
    "### Stationary Distributions\n",
    "We say that a distribution $\\pi$ is **stationary** if\n",
    "\n",
    "$$\\begin{gather*}\\pi P = \\pi\\end{gather*}$$"
   ]
  },
  {
   "cell_type": "markdown",
   "metadata": {
    "slideshow": {
     "slide_type": "notes"
    }
   },
   "source": [
    "### Limiting Distribution?"
   ]
  },
  {
   "cell_type": "markdown",
   "metadata": {
    "slideshow": {
     "slide_type": "slide"
    }
   },
   "source": [
    "### Main Theorem:\n",
    "An irreducible, ergotic Markov Chain $\\{X_n\\}$ has a unique stationary distribution, $\\pi$. The limiting distribution exists and is equal to $\\pi$. And furthermore, if $g$ is any bounded function, then with probability 1:\n",
    "\n",
    "### $$\\lim\\limits_{N\\to\\infty}\\frac{1}{N}\\sum\\limits_{n=1}^Ng(X_n) \\rightarrow E_\\pi(g)$$"
   ]
  },
  {
   "cell_type": "markdown",
   "metadata": {
    "slideshow": {
     "slide_type": "slide"
    }
   },
   "source": [
    "## Random-Walk-Metropolis - Hastings:\n",
    "Let $f(x)$ be the relative likelihood function of our desired distribution.\n",
    "\n",
    "$q(y|x_i)$ known distribution easily sampled from (generally taken to be $N(x_i,b^2)$)"
   ]
  },
  {
   "cell_type": "markdown",
   "metadata": {
    "slideshow": {
     "slide_type": "fragment"
    }
   },
   "source": [
    "1) Given $X_0,X_1,...,X_i$, pick $Y \\sim q(y|X_i)$"
   ]
  },
  {
   "cell_type": "markdown",
   "metadata": {
    "slideshow": {
     "slide_type": "fragment"
    }
   },
   "source": [
    "2) Compute $r(X_i,Y) = \\min\\left(\\frac{f(Y)q(X_i|Y)}{f(X_i)q(Y|X_i)}, 1\\right)$"
   ]
  },
  {
   "cell_type": "markdown",
   "metadata": {
    "slideshow": {
     "slide_type": "fragment"
    }
   },
   "source": [
    "3) Pick $a \\sim U(0,1)$"
   ]
  },
  {
   "cell_type": "markdown",
   "metadata": {
    "slideshow": {
     "slide_type": "fragment"
    }
   },
   "source": [
    "4) Set $X_{i+1} = \\begin{cases} Y & \\text{if } a < r \\\\\n",
    "X_i & \\text{otherwise}\\end{cases}$"
   ]
  },
  {
   "cell_type": "markdown",
   "metadata": {
    "slideshow": {
     "slide_type": "slide"
    }
   },
   "source": [
    "## The Confidence Builder:\n",
    "We would like to sample from and obtain a histogram of the Cauchy distribution:\n",
    "\n",
    "$$f(x) = \\frac{1}{\\pi}\\frac{1}{1+x^2}$$"
   ]
  },
  {
   "cell_type": "markdown",
   "metadata": {
    "slideshow": {
     "slide_type": "fragment"
    }
   },
   "source": [
    "$$\\begin{align*}\n",
    "q_{01} \\sim& N(x,0.1)\\\\\n",
    "q_1 \\sim& N(x,1)\\\\\n",
    "q_{10} \\sim& N(x,10)\\end{align*}$$"
   ]
  },
  {
   "cell_type": "markdown",
   "metadata": {
    "slideshow": {
     "slide_type": "fragment"
    }
   },
   "source": [
    "Note: Since $q$ is symmetric, $q(x|y) = q(y|x)$!"
   ]
  },
  {
   "cell_type": "code",
   "execution_count": 3,
   "metadata": {
    "collapsed": true,
    "slideshow": {
     "slide_type": "skip"
    }
   },
   "outputs": [],
   "source": [
    "def metropolis_hastings(f, q, initial_state, num_iters):\n",
    "    \"\"\"\n",
    "    Generate a Markov Chain Monte Carlo using\n",
    "    the Metropolis-Hastings algorithm.\n",
    "    \n",
    "    Parameters\n",
    "    ----------\n",
    "    f : function\n",
    "        the [relative] likelood function for\n",
    "        the distribution we would like to\n",
    "        approximate\n",
    "    q : function\n",
    "        The conditional distribution to be\n",
    "        sampled from (given an X_i, sample\n",
    "        from q(X_i) to get potential X_i+1)\n",
    "    initial_state : type accepted by f,q\n",
    "        The initial state. This state will\n",
    "        not be included as part of the \n",
    "        Markov Chain.\n",
    "    num_iters : int or float\n",
    "        the number of desired iterations\n",
    "        float is included to facilitate\n",
    "        1e5 type use\n",
    "    \n",
    "    Returns\n",
    "    -------\n",
    "    out : Python Array\n",
    "        Array where out[i] = X_{i-1} because\n",
    "        X_0 (the initial state) is not included\n",
    "    \"\"\"\n",
    "    MC = []\n",
    "    X_i = initial_state\n",
    "    for i in range(int(num_iters)):\n",
    "        Y = q(X_i)\n",
    "        r = min(f(Y)/f(X_i), 1)\n",
    "        a = np.random.uniform()\n",
    "        if a < r:\n",
    "            X_i = Y\n",
    "        MC.append(X_i)\n",
    "    return MC"
   ]
  },
  {
   "cell_type": "code",
   "execution_count": 4,
   "metadata": {
    "collapsed": true,
    "slideshow": {
     "slide_type": "subslide"
    }
   },
   "outputs": [],
   "source": [
    "def cauchy_dist(x):\n",
    "    return 1/(np.pi*(1 + x**2))\n",
    "def q(scale):\n",
    "    return lambda x: np.random.normal(loc=x, scale=scale)"
   ]
  },
  {
   "cell_type": "code",
   "execution_count": 5,
   "metadata": {
    "collapsed": true,
    "slideshow": {
     "slide_type": "subslide"
    }
   },
   "outputs": [],
   "source": [
    "from scipy.stats import cauchy\n",
    "CauchyInterval = np.linspace(cauchy.ppf(0.01),\n",
    "                             cauchy.ppf(0.99),\n",
    "                             100);"
   ]
  },
  {
   "cell_type": "code",
   "execution_count": 6,
   "metadata": {
    "collapsed": false,
    "slideshow": {
     "slide_type": "fragment"
    }
   },
   "outputs": [
    {
     "data": {
      "image/png": "[encoded data removed]",
      "text/plain": [
       "<matplotlib.figure.Figure at 0x7f7b2f569080>"
      ]
     },
     "metadata": {},
     "output_type": "display_data"
    }
   ],
   "source": [
    "plt.figure(1);\n",
    "plt.subplot(3,1,1);\n",
    "plt.title(\"STD = 0.1\")\n",
    "std01 = metropolis_hastings(cauchy_dist, q(0.1), 0, 1000)\n",
    "tmpHist = plt.hist(std01, bins=20, normed=True);\n",
    "tmpLnSp = np.linspace(min(tmpHist[1]),\n",
    "                      max(tmpHist[1]),100)\n",
    "plt.plot(tmpLnSp, cauchy.pdf(tmpLnSp), 'r-')\n",
    "plt.subplot(3,1,2)\n",
    "plt.title(\"STD = 1\")\n",
    "std1 = metropolis_hastings(cauchy_dist, q(1), 0, 1000)\n",
    "tmpHist = plt.hist(std1, bins=20, normed=True);\n",
    "tmpLnSp = np.linspace(min(tmpHist[1]),\n",
    "                      max(tmpHist[1]),100)\n",
    "plt.plot(tmpLnSp, cauchy.pdf(tmpLnSp), 'r-')\n",
    "plt.subplot(3,1,3)\n",
    "plt.title(\"STD = 10\")\n",
    "std10 = metropolis_hastings(cauchy_dist, q(10), 0, 1000)\n",
    "tmpHist = plt.hist(std10, bins=20, normed=True);\n",
    "tmpLnSp = np.linspace(min(tmpHist[1]),\n",
    "                      max(tmpHist[1]),100)\n",
    "plt.plot(tmpLnSp, cauchy.pdf(tmpLnSp), 'r-')\n",
    "plt.tight_layout()\n",
    "plb.savefig(\"tmp/18-MCMC-Cauchy-Estimation.png\")\n",
    "plb.savefig(\"../../../pics/2017/04/18-MCMC-Cauchy-Estimation.png\");\n",
    "plt.show()"
   ]
  },
  {
   "cell_type": "markdown",
   "metadata": {
    "slideshow": {
     "slide_type": "slide"
    }
   },
   "source": [
    "## Estimation:\n",
    "\n",
    "$$q(y|x) \\sim N(0,b^2)$$\n",
    "\n",
    "![The many distributions](tmp/18-MCMC-Cauchy-Estimation.png \"Title?\")"
   ]
  },
  {
   "cell_type": "code",
   "execution_count": 10,
   "metadata": {
    "collapsed": false,
    "slideshow": {
     "slide_type": "skip"
    }
   },
   "outputs": [
    {
     "data": {
      "image/png": "[encoded data removed]",
      "text/plain": [
       "<matplotlib.figure.Figure at 0x7f7b2f5696a0>"
      ]
     },
     "metadata": {},
     "output_type": "display_data"
    }
   ],
   "source": [
    "plt.figure(2)\n",
    "plt.subplot(3,1,1)\n",
    "plt.title(\"STD = 0.1\")\n",
    "plt.plot(std01)\n",
    "plt.subplot(3,1,2)\n",
    "plt.title(\"STD = 1\")\n",
    "plt.plot(std1)\n",
    "plt.subplot(3,1,3)\n",
    "plt.title(\"STD = 10\")\n",
    "plt.plot(std10)\n",
    "plt.tight_layout()\n",
    "plb.savefig(\"tmp/18-MCMC-Cauchy-Estimation_TS.png\")\n",
    "plb.savefig(\"../../../pics/2017/04/18-MCMC-Cauchy-Estimation_TS.png\")\n",
    "plt.show()"
   ]
  },
  {
   "cell_type": "markdown",
   "metadata": {
    "slideshow": {
     "slide_type": "slide"
    }
   },
   "source": [
    "## Another Aspect\n",
    "\n",
    "![Other things](tmp/18-MCMC-Cauchy-Estimation_TS.png)"
   ]
  },
  {
   "cell_type": "markdown",
   "metadata": {
    "slideshow": {
     "slide_type": "slide"
    }
   },
   "source": [
    "## How is this happening???"
   ]
  },
  {
   "cell_type": "markdown",
   "metadata": {
    "slideshow": {
     "slide_type": "fragment"
    }
   },
   "source": [
    "A property called **detailed balance**, which means,\n",
    "$$\\pi_ip_{ij} = p_{ji}\\pi_j$$\n",
    "\n",
    "or in the continuous case:\n",
    "$$f(x)P_{xy} = f(y)P_{yx}$$"
   ]
  },
  {
   "cell_type": "markdown",
   "metadata": {
    "slideshow": {
     "slide_type": "fragment"
    }
   },
   "source": [
    "But we don't need to go over that... Unless you wanna..."
   ]
  },
  {
   "cell_type": "markdown",
   "metadata": {
    "slideshow": {
     "slide_type": "subslide"
    }
   },
   "source": [
    "### Proof?\n",
    "Let $f$ be the desired distribution (in our example, it was the Cauchy Distribution), and let $q(y|x)$ be the distribution we draw from."
   ]
  },
  {
   "cell_type": "markdown",
   "metadata": {
    "slideshow": {
     "slide_type": "subslide"
    }
   },
   "source": [
    "First we'll show that detailed balance implies $\\pi$ (or $f$ if continuous) is the stable distribution!\n",
    "\n",
    "Let $\\pi_ip_{ij} = \\pi_jp_{ji}$ for discrete or for continuous $f(i)P_{ij}=P_{ji}f(j)$\n",
    "\n",
    "$$\\begin{align*}\n",
    "(\\pi P)_i =& \\sum\\limits_j\\pi_jP_{ji} & (fP)(x)=&\\int f(y)p(x|y)dy\\\\\n",
    "=&\\sum\\limits_j\\pi_iP_{ij} & =& \\int f(x)p(y|x)dy\\\\\n",
    "=&\\pi_i\\sum\\limits_jP_{ij} & =& f(x)\\int p(y|x)dy\\\\\n",
    "=&\\pi_i & =& f(x)\n",
    "\\end{align*}$$"
   ]
  },
  {
   "cell_type": "markdown",
   "metadata": {
    "slideshow": {
     "slide_type": "subslide"
    }
   },
   "source": [
    "Now we'll show that our MCMC has the detailed balance property.\n",
    "\n",
    "WLOG: Assume $f(x)q(y|x) > f(y)q(x|y)$.\n",
    "\n",
    "Note: $r(x,y) = \\frac{f(y)q(x|y)}{f(x)q(y|x)}$, and $r(y,x) = 1$.\n",
    "\n",
    "Then,\n",
    "\n",
    "$$\\begin{align*}\n",
    "\\pi_xp_{xy} =& f(x)\\mathbb{P}(X_1=y|X_0=x) & \\pi_yp_{yx} =& f(y)\\mathbb{P}(X_1=x|X_0=y)\\\\\n",
    "=& f(x)\\left[q(y|x)\\cdot r(x,y)\\right] & =&f(y)\\left[q(x|y)\\cdot r(y,x)\\right]\\\\\n",
    "=& f(x)\\left[q(y|x)\\cdot \\frac{f(y)q(x|y)}{f(x)q(y|x)}\\right] & =&f(y)\\left[q(x|y)\\cdot 1\\right]\\\\\n",
    "=& f(y)q(x|y) & =&f(y)q(x|y)\n",
    "\\end{align*}$$"
   ]
  },
  {
   "cell_type": "markdown",
   "metadata": {
    "slideshow": {
     "slide_type": "slide"
    }
   },
   "source": [
    "### The intuition"
   ]
  },
  {
   "cell_type": "markdown",
   "metadata": {
    "slideshow": {
     "slide_type": "fragment"
    }
   },
   "source": [
    "We want equal hopportunity:\n",
    "\n",
    "$$f(x)p(y|x) = f(y)p(x|y)$$"
   ]
  },
  {
   "cell_type": "markdown",
   "metadata": {
    "slideshow": {
     "slide_type": "fragment"
    }
   },
   "source": [
    "$$r(x,y) = \\min\\left(\\frac{f(y)q(x|y)}{f(x)q(y|x)},1\\right)$$"
   ]
  },
  {
   "cell_type": "markdown",
   "metadata": {
    "slideshow": {
     "slide_type": "slide"
    }
   },
   "source": [
    "## Modeling Change Point Models in Astrostatistics."
   ]
  },
  {
   "cell_type": "markdown",
   "metadata": {
    "slideshow": {
     "slide_type": "fragment"
    }
   },
   "source": [
    "$$\n",
    "\\begin{align*}\n",
    "f(k,\\theta,\\lambda,b_1,b_2 | Y) \\alpha& \\prod\\limits_{i=1}^k\\frac{\\theta^{Y_i}e^{-\\theta}}{Y_i!} \\prod\\limits_{i=k+1}^n\\frac{\\lambda^{Y_i}e^{-\\lambda}}{Y_i!} \\\\\n",
    "&\\times\\frac{1}{\\Gamma(0.5)b_1^{0.5}}\\theta^{-0.5}e^{-\\theta/b_1} \\times\\frac{1}{\\Gamma(0.5)b_2^{0.5}}\\theta^{-0.5}e^{-\\theta/b_2}\\\\\n",
    "&\\times\\frac{e^{-1/b_1}}{b_1}\\frac{e^{-1/b_2}}{b_2}\\times \\frac{1}{n}\n",
    "\\end{align*}\n",
    "$$"
   ]
  },
  {
   "cell_type": "code",
   "execution_count": 11,
   "metadata": {
    "collapsed": true,
    "slideshow": {
     "slide_type": "skip"
    }
   },
   "outputs": [],
   "source": [
    "def psu_mcmc(X, q, numIters=10000):\n",
    "    theta, lambd, k, b1, b2 = 1, 1, 20, 1, 1\n",
    "    thetas, lambds, ks, b1s, b2s = [], [], [], [], []\n",
    "    n = len(X)\n",
    "    def f_k(theta, lambd, k, b1, b2):\n",
    "        if 0 <= k and k <= n:\n",
    "            return theta**sum(X[:k])*lambd**sum(X[k:])*np.exp(-k*theta-(n-k)*lambd)\n",
    "        elif k < 0:\n",
    "            return lambd**sum(X)*np.exp(-n*lambd)\n",
    "        elif k > n:\n",
    "            return theta**sum(X)*np.exp(-n*theta)\n",
    "    def f_t(theta, k, b1):\n",
    "        return theta**(sum(X[:k])+0.5)*np.exp(-theta*(k+1.0)/b1)\n",
    "    def f_l(lambd, k, b2):\n",
    "        return lambd**(sum(X[k:])+0.5)*np.exp(-lambd*((n-k)+1.0)/b2)\n",
    "    def f_b(b, par):\n",
    "        return np.exp(-(1 + par) / b) / (b*np.sqrt(b))\n",
    "    for i in range(numIters):\n",
    "        tmp = q(theta)\n",
    "        if tmp < np.infty:\n",
    "            r = min(1, f_t(tmp,k,b1)/f_t(theta,k,b1))\n",
    "            if np.random.uniform(0,1) < r:\n",
    "                theta = tmp\n",
    "        tmp = q(lambd)\n",
    "        if tmp < np.infty:\n",
    "            r = min(1, f_l(tmp,k,b2)/f_l(lambd,k,b2))\n",
    "            if np.random.uniform(0,1) < r:\n",
    "                lambd = tmp\n",
    "        tmp = q(b1)\n",
    "        if tmp < np.infty:\n",
    "            r = min(1, f_b(tmp, theta)/f_b(b1, theta))\n",
    "            if np.random.uniform(0,1) < r:\n",
    "                b1 = tmp\n",
    "        tmp = q(b2)\n",
    "        if tmp < np.infty:\n",
    "            r = min(1, f_b(tmp, lambd)/f_b(b2, lambd))\n",
    "            if np.random.uniform(0,1) < r:\n",
    "                b2 = tmp\n",
    "        tmp = q(k)\n",
    "        if tmp < np.infty:\n",
    "            r = min(1, f_k(theta, lambd, tmp, b1, b2) /\n",
    "                    f_k(theta, lambd, k, b1,b2))\n",
    "            if np.random.uniform(0,1) < r:\n",
    "                k = tmp\n",
    "        thetas.append(theta)\n",
    "        lambds.append(lambd)\n",
    "        b1s.append(b1)\n",
    "        b2s.append(b2)\n",
    "        ks.append(k)\n",
    "    return np.array([thetas,lambds,ks,b1s,b2s])"
   ]
  },
  {
   "cell_type": "code",
   "execution_count": 12,
   "metadata": {
    "collapsed": false,
    "slideshow": {
     "slide_type": "notes"
    }
   },
   "outputs": [],
   "source": [
    "%%bash\n",
    "if [ ! -f tmp/psu_data.tsv ]\n",
    "then\n",
    "wget http://sites.stat.psu.edu/~mharan/MCMCtut/COUP551_rates.dat -O tmp/psu_data.tsv\n",
    "fi"
   ]
  },
  {
   "cell_type": "code",
   "execution_count": 13,
   "metadata": {
    "collapsed": false,
    "slideshow": {
     "slide_type": "skip"
    }
   },
   "outputs": [
    {
     "data": {
      "text/plain": [
       "array([11,  3,  5,  9,  3,  4,  5,  5,  5,  5, 13, 18, 27,  8,  4, 10,  8,\n",
       "        3, 12, 10, 10,  3,  9,  8,  5,  9,  4,  6,  1,  5, 14,  7,  9, 10,\n",
       "        8, 13,  8, 11, 11, 10, 11, 13, 10,  3,  8,  5])"
      ]
     },
     "execution_count": 13,
     "metadata": {},
     "output_type": "execute_result"
    }
   ],
   "source": [
    "psu_data = []\n",
    "with open(\"tmp/psu_data.tsv\", \"r\") as f:\n",
    "    title = f.readline()\n",
    "    for line in f:\n",
    "        tmpArr = [x.strip() for x in line.split(\" \")]\n",
    "        psu_data.append([int(x) for x in tmpArr if x != \"\"][1])\n",
    "psu_data = np.array(psu_data)\n",
    "psu_data"
   ]
  },
  {
   "cell_type": "code",
   "execution_count": 14,
   "metadata": {
    "collapsed": false,
    "slideshow": {
     "slide_type": "skip"
    }
   },
   "outputs": [
    {
     "name": "stderr",
     "output_type": "stream",
     "text": [
      "/home/amniskin/anaconda3/lib/python3.6/site-packages/ipykernel/__main__.py:7: VisibleDeprecationWarning: using a non-integer number instead of an integer will result in an error in the future\n",
      "/home/amniskin/anaconda3/lib/python3.6/site-packages/ipykernel/__main__.py:13: VisibleDeprecationWarning: using a non-integer number instead of an integer will result in an error in the future\n",
      "/home/amniskin/anaconda3/lib/python3.6/site-packages/ipykernel/__main__.py:15: VisibleDeprecationWarning: using a non-integer number instead of an integer will result in an error in the future\n",
      "/home/amniskin/anaconda3/lib/python3.6/site-packages/ipykernel/__main__.py:17: RuntimeWarning: invalid value encountered in sqrt\n",
      "/home/amniskin/anaconda3/lib/python3.6/site-packages/ipykernel/__main__.py:13: RuntimeWarning: invalid value encountered in double_scalars\n",
      "/home/amniskin/anaconda3/lib/python3.6/site-packages/ipykernel/__main__.py:7: RuntimeWarning: overflow encountered in double_scalars\n",
      "/home/amniskin/anaconda3/lib/python3.6/site-packages/ipykernel/__main__.py:42: RuntimeWarning: invalid value encountered in double_scalars\n",
      "/home/amniskin/anaconda3/lib/python3.6/site-packages/ipykernel/__main__.py:15: RuntimeWarning: overflow encountered in double_scalars\n",
      "/home/amniskin/anaconda3/lib/python3.6/site-packages/ipykernel/__main__.py:26: RuntimeWarning: invalid value encountered in double_scalars\n",
      "/home/amniskin/anaconda3/lib/python3.6/site-packages/ipykernel/__main__.py:7: RuntimeWarning: overflow encountered in power\n",
      "/home/amniskin/anaconda3/lib/python3.6/site-packages/ipykernel/__main__.py:7: RuntimeWarning: invalid value encountered in double_scalars\n",
      "/home/amniskin/anaconda3/lib/python3.6/site-packages/ipykernel/__main__.py:9: RuntimeWarning: overflow encountered in power\n",
      "/home/amniskin/anaconda3/lib/python3.6/site-packages/ipykernel/__main__.py:9: RuntimeWarning: invalid value encountered in double_scalars\n",
      "/home/amniskin/anaconda3/lib/python3.6/site-packages/ipykernel/__main__.py:13: RuntimeWarning: overflow encountered in double_scalars\n",
      "/home/amniskin/anaconda3/lib/python3.6/site-packages/ipykernel/__main__.py:21: RuntimeWarning: invalid value encountered in double_scalars\n"
     ]
    },
    {
     "data": {
      "image/png": "[encoded data removed]",
      "text/plain": [
       "<matplotlib.figure.Figure at 0x7f7b2baa3b70>"
      ]
     },
     "metadata": {},
     "output_type": "display_data"
    }
   ],
   "source": [
    "mcmc2 = psu_mcmc(psu_data, q(1), 1000)\n",
    "plt.figure()\n",
    "plt.subplot(2,1,1)\n",
    "plt.hist(mcmc2[2] % len(psu_data), normed=True)\n",
    "plt.subplot(2,1,2)\n",
    "plt.plot(mcmc2[2])\n",
    "plt.show();"
   ]
  },
  {
   "cell_type": "code",
   "execution_count": 17,
   "metadata": {
    "collapsed": false,
    "slideshow": {
     "slide_type": "skip"
    }
   },
   "outputs": [
    {
     "data": {
      "image/png": "[encoded data removed]",
      "text/plain": [
       "<matplotlib.figure.Figure at 0x7f7b6ca13e48>"
      ]
     },
     "metadata": {},
     "output_type": "display_data"
    }
   ],
   "source": [
    "fig = plt.figure()\n",
    "fig.suptitle(\"MCMC values for Change Point\")\n",
    "plt.subplot(2,1,1)\n",
    "plt.hist(mcmc2[2] % len(psu_data), normed=True)\n",
    "plt.subplot(2,1,2)\n",
    "plt.plot(mcmc2[2])\n",
    "plb.savefig(\"tmp/psu_graphs1.png\")\n",
    "plt.show()"
   ]
  },
  {
   "cell_type": "markdown",
   "metadata": {
    "slideshow": {
     "slide_type": "slide"
    }
   },
   "source": [
    "![Not so useful](tmp/psu_graphs1.png)"
   ]
  },
  {
   "cell_type": "code",
   "execution_count": 19,
   "metadata": {
    "collapsed": false,
    "slideshow": {
     "slide_type": "skip"
    }
   },
   "outputs": [
    {
     "data": {
      "image/png": "[encoded data removed]",
      "text/plain": [
       "<matplotlib.figure.Figure at 0x7f7b2b806470>"
      ]
     },
     "metadata": {},
     "output_type": "display_data"
    }
   ],
   "source": [
    "plt.plot(psu_data)\n",
    "plt.title(\"PSU Data\")\n",
    "plb.savefig(\"tmp/psu_ts.png\")\n",
    "plt.show()"
   ]
  },
  {
   "cell_type": "markdown",
   "metadata": {
    "slideshow": {
     "slide_type": "slide"
    }
   },
   "source": [
    "![](tmp/psu_ts.png)"
   ]
  },
  {
   "cell_type": "markdown",
   "metadata": {
    "slideshow": {
     "slide_type": "skip"
    }
   },
   "source": [
    "[stat.psu.edu](http://sites.stat.psu.edu/~mharan/MCMCtut/COUP551_rates.dat)"
   ]
  },
  {
   "cell_type": "markdown",
   "metadata": {
    "slideshow": {
     "slide_type": "slide"
    }
   },
   "source": [
    "### Potential Issues with RWMetropolis-Hastings:\n",
    "\n",
    "- Requires $f$ to be defined on all of $\\mathbb{R}$\n",
    "    - So transform as needed\n",
    "- Curse of dimensionality in tuning parameters"
   ]
  },
  {
   "cell_type": "markdown",
   "metadata": {
    "slideshow": {
     "slide_type": "slide"
    }
   },
   "source": [
    "## Other forms\n",
    "\n",
    "- Gibbs Sampling\n",
    "    - Turn high dimensional sampling into iterative one-dimensional sampling\n",
    "\n",
    "- Gibbs with Metropolis-Hastings"
   ]
  },
  {
   "cell_type": "markdown",
   "metadata": {
    "slideshow": {
     "slide_type": "notes"
    }
   },
   "source": [
    "## Bibliography\n",
    "[Summer School in Astrostatistics](http://sites.stat.psu.edu/~mharan/MCMCtut/MCMC.html)"
   ]
  }
 ],
 "metadata": {
  "anaconda-cloud": {},
  "celltoolbar": "Slideshow",
  "kernelspec": {
   "display_name": "Python 3",
   "language": "python",
   "name": "python3"
  },
  "language_info": {
   "codemirror_mode": {
    "name": "ipython",
    "version": 3
   },
   "file_extension": ".py",
   "mimetype": "text/x-python",
   "name": "python",
   "nbconvert_exporter": "python",
   "pygments_lexer": "ipython3",
   "version": "3.6.0"
  }
 },
 "nbformat": 4,
 "nbformat_minor": 1
}
